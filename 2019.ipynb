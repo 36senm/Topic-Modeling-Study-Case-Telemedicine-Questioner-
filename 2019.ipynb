{
 "cells": [
  {
   "cell_type": "code",
   "execution_count": 1,
   "metadata": {},
   "outputs": [],
   "source": [
    "import pandas as pd\n",
    "import numpy as np\n",
    "import matplotlib.pyplot as plt\n",
    "import seaborn as sns\n",
    "import re\n",
    "import glob\n",
    "import os\n",
    "import string\n",
    "import plotly.express as px\n",
    "from pathlib import Path\n",
    "from datetime import datetime\n",
    "import datetime as dt\n",
    "from nltk.corpus import stopwords\n",
    "from nltk.tokenize import word_tokenize\n",
    "from Sastrawi.Stemmer.StemmerFactory import StemmerFactory\n",
    "from Sastrawi.StopWordRemover.StopWordRemoverFactory import StopWordRemoverFactory, StopWordRemover, ArrayDictionary\n",
    "import nltk\n",
    "import gensim\n",
    "from gensim.models import CoherenceModel\n",
    "from gensim.models import LdaModel\n",
    "import pyLDAvis\n",
    "import pyLDAvis.gensim_models  # don't skip this\n",
    "import matplotlib.pyplot as plt\n",
    "import gensim.corpora as corpora\n",
    "import calendar\n",
    "from nltk.util import ngrams\n",
    "from nltk.util import bigrams\n",
    "from nltk.util import trigrams\n",
    "from sklearn.feature_extraction.text import CountVectorizer\n",
    "from gensim.models.phrases import Phrases, Phraser\n",
    "from collections import Counter\n",
    "import pyLDAvis.gensim_models as gensimvis\n",
    "from gensim.utils import tokenize"
   ]
  },
  {
   "cell_type": "code",
   "execution_count": 2,
   "metadata": {},
   "outputs": [],
   "source": [
    "path = 'C:/Users/WINDOWS 10/Documents/Skripsi/scrapingFIX' #/FIXCSV\n",
    "li = []\n",
    "\n",
    "for file in Path(path + '/FIXCSV').glob('*.csv'):\n",
    "    li.append(pd.read_csv(file))\n",
    "\n",
    "df = pd.concat(li, axis=0, ignore_index=True)"
   ]
  },
  {
   "cell_type": "code",
   "execution_count": 3,
   "metadata": {},
   "outputs": [],
   "source": [
    "df_copy = df.copy()"
   ]
  },
  {
   "cell_type": "code",
   "execution_count": 4,
   "metadata": {},
   "outputs": [
    {
     "data": {
      "text/html": [
       "<div>\n",
       "<style scoped>\n",
       "    .dataframe tbody tr th:only-of-type {\n",
       "        vertical-align: middle;\n",
       "    }\n",
       "\n",
       "    .dataframe tbody tr th {\n",
       "        vertical-align: top;\n",
       "    }\n",
       "\n",
       "    .dataframe thead th {\n",
       "        text-align: right;\n",
       "    }\n",
       "</style>\n",
       "<table border=\"1\" class=\"dataframe\">\n",
       "  <thead>\n",
       "    <tr style=\"text-align: right;\">\n",
       "      <th></th>\n",
       "      <th>title</th>\n",
       "      <th>question</th>\n",
       "      <th>user_name</th>\n",
       "      <th>user_type</th>\n",
       "      <th>date</th>\n",
       "      <th>link</th>\n",
       "    </tr>\n",
       "  </thead>\n",
       "  <tbody>\n",
       "    <tr>\n",
       "      <th>0</th>\n",
       "      <td>Bengkak dan merah pasca imunisasi DPT</td>\n",
       "      <td>Dok,anak saya sudah imunisasi DPT, terus bekas...</td>\n",
       "      <td>An**i</td>\n",
       "      <td>Anggota</td>\n",
       "      <td>14 Januari 2018</td>\n",
       "      <td>https://www.alodokter.com/komunitas/topic/beng...</td>\n",
       "    </tr>\n",
       "    <tr>\n",
       "      <th>1</th>\n",
       "      <td>penyebab mendengar suara yang terdengar lebih ...</td>\n",
       "      <td>Dok, suara yang saya dengar tiba\" menjadi sang...</td>\n",
       "      <td>ha*****8</td>\n",
       "      <td>Anggota</td>\n",
       "      <td>16 Januari 2018</td>\n",
       "      <td>https://www.alodokter.com/komunitas/topic/suar...</td>\n",
       "    </tr>\n",
       "    <tr>\n",
       "      <th>2</th>\n",
       "      <td>Perbedaan gejala hamil dengan sakit maag</td>\n",
       "      <td>mlm donk saya rina udah menikah usia 24 tahun ...</td>\n",
       "      <td>Va******o</td>\n",
       "      <td>Anggota</td>\n",
       "      <td>16 Januari 2018</td>\n",
       "      <td>https://www.alodokter.com/komunitas/topic/apak...</td>\n",
       "    </tr>\n",
       "    <tr>\n",
       "      <th>3</th>\n",
       "      <td>Mengatasi kepala pusing dan susah tidur</td>\n",
       "      <td>Dok saya mau bertanya kenapa ya saya akhir2 in...</td>\n",
       "      <td>Li***h</td>\n",
       "      <td>Anggota</td>\n",
       "      <td>16 Januari 2018</td>\n",
       "      <td>https://www.alodokter.com/komunitas/topic/kepa...</td>\n",
       "    </tr>\n",
       "    <tr>\n",
       "      <th>4</th>\n",
       "      <td>penggunaan biotin untuk menumbuhkan rambut</td>\n",
       "      <td>selamat malam dokter, saya mau tau info dong, ...</td>\n",
       "      <td>He*i</td>\n",
       "      <td>Anggota</td>\n",
       "      <td>16 Januari 2018</td>\n",
       "      <td>https://www.alodokter.com/komunitas/topic/biot...</td>\n",
       "    </tr>\n",
       "  </tbody>\n",
       "</table>\n",
       "</div>"
      ],
      "text/plain": [
       "                                               title  \\\n",
       "0              Bengkak dan merah pasca imunisasi DPT   \n",
       "1  penyebab mendengar suara yang terdengar lebih ...   \n",
       "2           Perbedaan gejala hamil dengan sakit maag   \n",
       "3            Mengatasi kepala pusing dan susah tidur   \n",
       "4         penggunaan biotin untuk menumbuhkan rambut   \n",
       "\n",
       "                                            question  user_name user_type  \\\n",
       "0  Dok,anak saya sudah imunisasi DPT, terus bekas...      An**i   Anggota   \n",
       "1  Dok, suara yang saya dengar tiba\" menjadi sang...   ha*****8   Anggota   \n",
       "2  mlm donk saya rina udah menikah usia 24 tahun ...  Va******o   Anggota   \n",
       "3  Dok saya mau bertanya kenapa ya saya akhir2 in...     Li***h   Anggota   \n",
       "4  selamat malam dokter, saya mau tau info dong, ...       He*i   Anggota   \n",
       "\n",
       "              date                                               link  \n",
       "0  14 Januari 2018  https://www.alodokter.com/komunitas/topic/beng...  \n",
       "1  16 Januari 2018  https://www.alodokter.com/komunitas/topic/suar...  \n",
       "2  16 Januari 2018  https://www.alodokter.com/komunitas/topic/apak...  \n",
       "3  16 Januari 2018  https://www.alodokter.com/komunitas/topic/kepa...  \n",
       "4  16 Januari 2018  https://www.alodokter.com/komunitas/topic/biot...  "
      ]
     },
     "execution_count": 4,
     "metadata": {},
     "output_type": "execute_result"
    }
   ],
   "source": [
    "df_copy.head()"
   ]
  },
  {
   "cell_type": "code",
   "execution_count": 5,
   "metadata": {},
   "outputs": [],
   "source": [
    "df_copy['tahun'] = df_copy['date'].str.split().str[-1]"
   ]
  },
  {
   "attachments": {},
   "cell_type": "markdown",
   "metadata": {},
   "source": [
    "----"
   ]
  },
  {
   "cell_type": "code",
   "execution_count": 6,
   "metadata": {},
   "outputs": [],
   "source": [
    "df_train19 = df_copy[df_copy['tahun'] == '2019'].reset_index()"
   ]
  },
  {
   "cell_type": "code",
   "execution_count": 7,
   "metadata": {},
   "outputs": [],
   "source": [
    "#create dummy \n",
    "train_dummy = df_train19[:10]"
   ]
  },
  {
   "cell_type": "code",
   "execution_count": 8,
   "metadata": {},
   "outputs": [
    {
     "data": {
      "text/html": [
       "<div>\n",
       "<style scoped>\n",
       "    .dataframe tbody tr th:only-of-type {\n",
       "        vertical-align: middle;\n",
       "    }\n",
       "\n",
       "    .dataframe tbody tr th {\n",
       "        vertical-align: top;\n",
       "    }\n",
       "\n",
       "    .dataframe thead th {\n",
       "        text-align: right;\n",
       "    }\n",
       "</style>\n",
       "<table border=\"1\" class=\"dataframe\">\n",
       "  <thead>\n",
       "    <tr style=\"text-align: right;\">\n",
       "      <th></th>\n",
       "      <th>index</th>\n",
       "      <th>title</th>\n",
       "      <th>question</th>\n",
       "      <th>user_name</th>\n",
       "      <th>user_type</th>\n",
       "      <th>date</th>\n",
       "      <th>link</th>\n",
       "      <th>tahun</th>\n",
       "    </tr>\n",
       "  </thead>\n",
       "  <tbody>\n",
       "    <tr>\n",
       "      <th>0</th>\n",
       "      <td>107517</td>\n",
       "      <td>Muntah pada ibu hamil 4 bulan setelah konsumsi...</td>\n",
       "      <td>Pagi dok, saya sdg hamil 4 bulan kurang. Semal...</td>\n",
       "      <td>R</td>\n",
       "      <td>Anggota</td>\n",
       "      <td>29 Desember 2019</td>\n",
       "      <td>https://www.alodokter.com/komunitas/topic/hami...</td>\n",
       "      <td>2019</td>\n",
       "    </tr>\n",
       "    <tr>\n",
       "      <th>1</th>\n",
       "      <td>107518</td>\n",
       "      <td>Benjolan di leher yang semakin membesar disert...</td>\n",
       "      <td>Terimakasih dok sebelumnya, Dalam tiga bulan t...</td>\n",
       "      <td>Po***a</td>\n",
       "      <td>Anggota</td>\n",
       "      <td>29 Desember 2019</td>\n",
       "      <td>https://www.alodokter.com/komunitas/topic/apa-...</td>\n",
       "      <td>2019</td>\n",
       "    </tr>\n",
       "    <tr>\n",
       "      <th>2</th>\n",
       "      <td>107519</td>\n",
       "      <td>Benjolan gatal di vagina disertai keputihan ke...</td>\n",
       "      <td>Hallo dok..Saya umur 18 tahun. Di bibir vagina...</td>\n",
       "      <td>Na***a</td>\n",
       "      <td>Anggota</td>\n",
       "      <td>29 Desember 2019</td>\n",
       "      <td>https://www.alodokter.com/komunitas/topic/apak...</td>\n",
       "      <td>2019</td>\n",
       "    </tr>\n",
       "    <tr>\n",
       "      <th>3</th>\n",
       "      <td>107520</td>\n",
       "      <td>Apakah jika dibius total untuk mencabut 3 gigi...</td>\n",
       "      <td>Selamat pagi dokter, 5 tahun lalu sy pernah ak...</td>\n",
       "      <td>Di*n</td>\n",
       "      <td>Anggota</td>\n",
       "      <td>29 Desember 2019</td>\n",
       "      <td>https://www.alodokter.com/komunitas/topic/cabu...</td>\n",
       "      <td>2019</td>\n",
       "    </tr>\n",
       "    <tr>\n",
       "      <th>4</th>\n",
       "      <td>107521</td>\n",
       "      <td>Apakah jahe dan ayam bisa menyebabkan asma kam...</td>\n",
       "      <td>1. Kandungan apa yg terdapat pada jahe dan aya...</td>\n",
       "      <td>Kh******h</td>\n",
       "      <td>Anggota</td>\n",
       "      <td>29 Desember 2019</td>\n",
       "      <td>https://www.alodokter.com/komunitas/topic/jahe...</td>\n",
       "      <td>2019</td>\n",
       "    </tr>\n",
       "    <tr>\n",
       "      <th>5</th>\n",
       "      <td>107522</td>\n",
       "      <td>Bercak putih di tenggorokan disertai tenggorok...</td>\n",
       "      <td>Saya radang tenggorokan, ada bercak putih di t...</td>\n",
       "      <td>Mu*****d</td>\n",
       "      <td>Anggota</td>\n",
       "      <td>29 Desember 2019</td>\n",
       "      <td>https://www.alodokter.com/komunitas/topic/apak...</td>\n",
       "      <td>2019</td>\n",
       "    </tr>\n",
       "    <tr>\n",
       "      <th>6</th>\n",
       "      <td>107523</td>\n",
       "      <td>Apakah jahe dan ayam bisa menyebabkan asma kam...</td>\n",
       "      <td>1. Kandungan apa yg terdapat pada jahe dan aya...</td>\n",
       "      <td>Kh******h</td>\n",
       "      <td>Anggota</td>\n",
       "      <td>29 Desember 2019</td>\n",
       "      <td>https://www.alodokter.com/komunitas/topic/jahe...</td>\n",
       "      <td>2019</td>\n",
       "    </tr>\n",
       "    <tr>\n",
       "      <th>7</th>\n",
       "      <td>107524</td>\n",
       "      <td>Bercak putih di tenggorokan disertai tenggorok...</td>\n",
       "      <td>Saya radang tenggorokan, ada bercak putih di t...</td>\n",
       "      <td>Mu*****d</td>\n",
       "      <td>Anggota</td>\n",
       "      <td>29 Desember 2019</td>\n",
       "      <td>https://www.alodokter.com/komunitas/topic/apak...</td>\n",
       "      <td>2019</td>\n",
       "    </tr>\n",
       "    <tr>\n",
       "      <th>8</th>\n",
       "      <td>107525</td>\n",
       "      <td>Bruntusan berair yang terasa gatal di vagina</td>\n",
       "      <td>halo dok, waktu diawal muncul rasa gatal di de...</td>\n",
       "      <td>pi****n</td>\n",
       "      <td>Anggota</td>\n",
       "      <td>29 Desember 2019</td>\n",
       "      <td>https://www.alodokter.com/komunitas/topic/miss...</td>\n",
       "      <td>2019</td>\n",
       "    </tr>\n",
       "    <tr>\n",
       "      <th>9</th>\n",
       "      <td>107526</td>\n",
       "      <td>Ruam gatal di seluruh tubuh yang semakin menyebar</td>\n",
       "      <td>selamat pagi dok,saya riski umur 24 th saya su...</td>\n",
       "      <td>Ki**y</td>\n",
       "      <td>Anggota</td>\n",
       "      <td>29 Desember 2019</td>\n",
       "      <td>https://www.alodokter.com/komunitas/topic/gata...</td>\n",
       "      <td>2019</td>\n",
       "    </tr>\n",
       "  </tbody>\n",
       "</table>\n",
       "</div>"
      ],
      "text/plain": [
       "    index                                              title  \\\n",
       "0  107517  Muntah pada ibu hamil 4 bulan setelah konsumsi...   \n",
       "1  107518  Benjolan di leher yang semakin membesar disert...   \n",
       "2  107519  Benjolan gatal di vagina disertai keputihan ke...   \n",
       "3  107520  Apakah jika dibius total untuk mencabut 3 gigi...   \n",
       "4  107521  Apakah jahe dan ayam bisa menyebabkan asma kam...   \n",
       "5  107522  Bercak putih di tenggorokan disertai tenggorok...   \n",
       "6  107523  Apakah jahe dan ayam bisa menyebabkan asma kam...   \n",
       "7  107524  Bercak putih di tenggorokan disertai tenggorok...   \n",
       "8  107525       Bruntusan berair yang terasa gatal di vagina   \n",
       "9  107526  Ruam gatal di seluruh tubuh yang semakin menyebar   \n",
       "\n",
       "                                            question  user_name user_type  \\\n",
       "0  Pagi dok, saya sdg hamil 4 bulan kurang. Semal...          R   Anggota   \n",
       "1  Terimakasih dok sebelumnya, Dalam tiga bulan t...     Po***a   Anggota   \n",
       "2  Hallo dok..Saya umur 18 tahun. Di bibir vagina...     Na***a   Anggota   \n",
       "3  Selamat pagi dokter, 5 tahun lalu sy pernah ak...       Di*n   Anggota   \n",
       "4  1. Kandungan apa yg terdapat pada jahe dan aya...  Kh******h   Anggota   \n",
       "5  Saya radang tenggorokan, ada bercak putih di t...   Mu*****d   Anggota   \n",
       "6  1. Kandungan apa yg terdapat pada jahe dan aya...  Kh******h   Anggota   \n",
       "7  Saya radang tenggorokan, ada bercak putih di t...   Mu*****d   Anggota   \n",
       "8  halo dok, waktu diawal muncul rasa gatal di de...    pi****n   Anggota   \n",
       "9  selamat pagi dok,saya riski umur 24 th saya su...      Ki**y   Anggota   \n",
       "\n",
       "               date                                               link tahun  \n",
       "0  29 Desember 2019  https://www.alodokter.com/komunitas/topic/hami...  2019  \n",
       "1  29 Desember 2019  https://www.alodokter.com/komunitas/topic/apa-...  2019  \n",
       "2  29 Desember 2019  https://www.alodokter.com/komunitas/topic/apak...  2019  \n",
       "3  29 Desember 2019  https://www.alodokter.com/komunitas/topic/cabu...  2019  \n",
       "4  29 Desember 2019  https://www.alodokter.com/komunitas/topic/jahe...  2019  \n",
       "5  29 Desember 2019  https://www.alodokter.com/komunitas/topic/apak...  2019  \n",
       "6  29 Desember 2019  https://www.alodokter.com/komunitas/topic/jahe...  2019  \n",
       "7  29 Desember 2019  https://www.alodokter.com/komunitas/topic/apak...  2019  \n",
       "8  29 Desember 2019  https://www.alodokter.com/komunitas/topic/miss...  2019  \n",
       "9  29 Desember 2019  https://www.alodokter.com/komunitas/topic/gata...  2019  "
      ]
     },
     "execution_count": 8,
     "metadata": {},
     "output_type": "execute_result"
    }
   ],
   "source": [
    "train_dummy"
   ]
  },
  {
   "attachments": {},
   "cell_type": "markdown",
   "metadata": {},
   "source": [
    "---"
   ]
  },
  {
   "cell_type": "code",
   "execution_count": 9,
   "metadata": {},
   "outputs": [],
   "source": [
    "# add stopword\n",
    "\n",
    "stopword = stopwords.words('indonesian')\n",
    "more_stopword = ['dok','dokter','selamat','halo','hallo','hi','alodokter',\n",
    "                 'tadi','terus','nya','lalu','apa','jadi','bahkan','iya',\n",
    "                 'kira','terimakasih','Dokter','Dok', 'langsung ',\n",
    "                 'minggu', 'malam', 'siang', 'kali', 'sebab','alami', \n",
    "                 'pagi','kadang','mohon', 'terima','kasih']\n",
    "stopword.extend(more_stopword)\n",
    "fin_stp = set([word for word in stopword])"
   ]
  },
  {
   "cell_type": "code",
   "execution_count": 10,
   "metadata": {},
   "outputs": [],
   "source": [
    "#create replace\n",
    "dok = 'dok'"
   ]
  },
  {
   "cell_type": "code",
   "execution_count": 11,
   "metadata": {},
   "outputs": [],
   "source": [
    "#slang word\n",
    "baku = pd.read_csv(path + '/baku/baku[ori].csv')\n",
    "\n",
    "std_word_replace = {}\n",
    "for i, row in enumerate(baku['slang']):\n",
    "    std_word_replace[row] = baku['baku'].iloc[i]"
   ]
  },
  {
   "cell_type": "code",
   "execution_count": 12,
   "metadata": {},
   "outputs": [],
   "source": [
    "def clean_text(text):\n",
    "    new_text = []\n",
    "    text = text.lower()\n",
    "\n",
    "    #remove punctuation\n",
    "    text = ''.join('' if a in string.punctuation else a for a in text)\n",
    "    #a_dum\n",
    "    text = text.split()\n",
    "    for i,word in enumerate(text):\n",
    "        if 'dok' in word and i < len(text) - 1 and not text[i+1].startswith('dok'):\n",
    "            text[i] = 'dok'\n",
    "    text = \" \".join(text)\n",
    "    #b_dum\n",
    "    new_text.append(text)\n",
    "\n",
    "    return new_text\n"
   ]
  },
  {
   "cell_type": "code",
   "execution_count": 13,
   "metadata": {},
   "outputs": [
    {
     "name": "stdout",
     "output_type": "stream",
     "text": [
      "Hell4, w8rld! H15w are y23u?\n"
     ]
    }
   ],
   "source": [
    "s = \"Hello, world! How are you?\"\n",
    "new_s = \"\"\n",
    "for i, c in enumerate(s):\n",
    "    if c == \"o\":\n",
    "        new_s += str(i)\n",
    "    else:\n",
    "        new_s += c\n",
    "print(new_s)"
   ]
  },
  {
   "cell_type": "code",
   "execution_count": 14,
   "metadata": {},
   "outputs": [],
   "source": [
    "def clean_text1(text):\n",
    "    new_text = []\n",
    "    text = text.lower()\n",
    "\n",
    "    #remove punctuation\n",
    "    text = ''.join('' if a in string.punctuation else a for a in text)\n",
    "    #a_dum\n",
    "    text = text.split()\n",
    "    for i,word in enumerate(text):\n",
    "        if 'dok' in word and word.startswith('dok') and len(word) > 3:\n",
    "            text[i] = 'dok ' + word[3:]\n",
    "    text = \" \".join(text)\n",
    "\n",
    "    new_text.append(text)\n",
    "    return new_text\n",
    "    "
   ]
  },
  {
   "cell_type": "code",
   "execution_count": 15,
   "metadata": {},
   "outputs": [],
   "source": [
    "def clean_text2(text):\n",
    "    new_text = []\n",
    "    text = text.lower()\n",
    "\n",
    "    #remove punctuation\n",
    "    text = ''.join('' if a in string.punctuation else a for a in text)\n",
    "    #a_dum\n",
    "    text = text.split()\n",
    "    for i,word in enumerate(text):\n",
    "        if 'dok' in word and word.startswith('dok') and len(word) > 3:\n",
    "            text[i] = 'dok ' + word[3:]\n",
    "    text = \" \".join(text)\n",
    "    #c_dum\n",
    "    \n",
    "    #normalization into standar word \n",
    "    for text in text.split():\n",
    "        if text not in std_word_replace:\n",
    "            new_text.append(text)\n",
    "        elif text in std_word_replace:\n",
    "            new_text += std_word_replace[text].split()\n",
    "    #stopword\n",
    "    new_text = ' '.join(text for text in new_text if text not in fin_stp)\n",
    "    #d_dum\n",
    "    return new_text    "
   ]
  },
  {
   "cell_type": "code",
   "execution_count": 16,
   "metadata": {},
   "outputs": [],
   "source": [
    "a_dum = train_dummy['question'].apply(lambda x: clean_text(x))"
   ]
  },
  {
   "cell_type": "code",
   "execution_count": 17,
   "metadata": {},
   "outputs": [],
   "source": [
    "b_dum = train_dummy['question'].apply(lambda x: clean_text(x))"
   ]
  },
  {
   "cell_type": "code",
   "execution_count": 18,
   "metadata": {},
   "outputs": [],
   "source": [
    "c_dum = train_dummy['question'].apply(lambda x: clean_text1(x))"
   ]
  },
  {
   "cell_type": "code",
   "execution_count": 19,
   "metadata": {},
   "outputs": [],
   "source": [
    "d_dum = train_dummy['question'].apply(lambda x: clean_text2(x))"
   ]
  },
  {
   "cell_type": "code",
   "execution_count": 20,
   "metadata": {},
   "outputs": [
    {
     "data": {
      "text/plain": [
       "0    [pagi dok saya sdg hamil 4 bulan kurang semala...\n",
       "1    [terimakasih dok sebelumnya dalam tiga bulan t...\n",
       "2    [hallo dok umur 18 tahun di bibir vagina saya ...\n",
       "3    [selamat pagi dok 5 tahun lalu sy pernah akan ...\n",
       "4    [1 kandungan apa yg terdapat pada jahe dan aya...\n",
       "5    [saya radang tenggorokan ada bercak putih di t...\n",
       "6    [1 kandungan apa yg terdapat pada jahe dan aya...\n",
       "7    [saya radang tenggorokan ada bercak putih di t...\n",
       "8    [halo dok waktu diawal muncul rasa gatal di de...\n",
       "9    [selamat pagi dok riski umur 24 th saya sudah ...\n",
       "Name: question, dtype: object"
      ]
     },
     "execution_count": 20,
     "metadata": {},
     "output_type": "execute_result"
    }
   ],
   "source": [
    "a_dum"
   ]
  },
  {
   "cell_type": "code",
   "execution_count": 21,
   "metadata": {},
   "outputs": [
    {
     "data": {
      "text/plain": [
       "0    [pagi dok saya sdg hamil 4 bulan kurang semala...\n",
       "1    [terimakasih dok sebelumnya dalam tiga bulan t...\n",
       "2    [hallo dok umur 18 tahun di bibir vagina saya ...\n",
       "3    [selamat pagi dok 5 tahun lalu sy pernah akan ...\n",
       "4    [1 kandungan apa yg terdapat pada jahe dan aya...\n",
       "5    [saya radang tenggorokan ada bercak putih di t...\n",
       "6    [1 kandungan apa yg terdapat pada jahe dan aya...\n",
       "7    [saya radang tenggorokan ada bercak putih di t...\n",
       "8    [halo dok waktu diawal muncul rasa gatal di de...\n",
       "9    [selamat pagi dok riski umur 24 th saya sudah ...\n",
       "Name: question, dtype: object"
      ]
     },
     "execution_count": 21,
     "metadata": {},
     "output_type": "execute_result"
    }
   ],
   "source": [
    "b_dum"
   ]
  },
  {
   "cell_type": "code",
   "execution_count": 22,
   "metadata": {},
   "outputs": [
    {
     "data": {
      "text/plain": [
       "0    [pagi dok saya sdg hamil 4 bulan kurang semala...\n",
       "1    [terimakasih dok sebelumnya dalam tiga bulan t...\n",
       "2    [hallo dok saya umur 18 tahun di bibir vagina ...\n",
       "3    [selamat pagi dok ter 5 tahun lalu sy pernah a...\n",
       "4    [1 kandungan apa yg terdapat pada jahe dan aya...\n",
       "5    [saya radang tenggorokan ada bercak putih di t...\n",
       "6    [1 kandungan apa yg terdapat pada jahe dan aya...\n",
       "7    [saya radang tenggorokan ada bercak putih di t...\n",
       "8    [halo dok waktu diawal muncul rasa gatal di de...\n",
       "9    [selamat pagi dok saya riski umur 24 th saya s...\n",
       "Name: question, dtype: object"
      ]
     },
     "execution_count": 22,
     "metadata": {},
     "output_type": "execute_result"
    }
   ],
   "source": [
    "c_dum"
   ]
  },
  {
   "cell_type": "code",
   "execution_count": 23,
   "metadata": {},
   "outputs": [
    {
     "data": {
      "text/plain": [
       "0    hamil 4 semalam tidur makan minum buavita jeru...\n",
       "1    merasakan aneh pernafasan terdengar suara aneh...\n",
       "2    umur 18 bibir vagina benjolan gatal keputihan ...\n",
       "3    ter 5 pergi gigi graham kiri proses berjalan d...\n",
       "4    1 kandungan jahe ayam asma kumat rempah rempah...\n",
       "5    radang tenggorokan bercak putih tenggorokan me...\n",
       "6    1 kandungan jahe ayam asma kumat rempah rempah...\n",
       "7    radang tenggorokan bercak putih tenggorokan me...\n",
       "8    diawal muncul gatal miss v menggaruknya muncul...\n",
       "9    riski umur 24 bberpa merasakan gatal menyebar ...\n",
       "Name: question, dtype: object"
      ]
     },
     "execution_count": 23,
     "metadata": {},
     "output_type": "execute_result"
    }
   ],
   "source": [
    "d_dum"
   ]
  },
  {
   "cell_type": "code",
   "execution_count": 24,
   "metadata": {},
   "outputs": [],
   "source": [
    "def clean_text3(text):\n",
    "    new_text = []\n",
    "    text = text.lower()\n",
    "\n",
    "    #remove punctuation\n",
    "    text = ''.join('' if a in string.punctuation else a for a in text)\n",
    "    #a_dum\n",
    "    text = text.split()\n",
    "    for i,word in enumerate(text):\n",
    "        if 'dok' in word and word.startswith('dok') and len(word) > 3:\n",
    "            text[i] = 'dok ' + word[3:]\n",
    "    text = \" \".join(text)\n",
    "    #c_dum\n",
    "    \n",
    "    #normalization into standar word \n",
    "    for text in text.split():\n",
    "        if text not in std_word_replace:\n",
    "            new_text.append(text)\n",
    "        elif text in std_word_replace:\n",
    "            new_text += std_word_replace[text].split()\n",
    "    #stopword\n",
    "    new_text = ' '.join(text for text in new_text if text not in fin_stp)\n",
    "    #d_dum  \n",
    "\n",
    "    #create token \n",
    "    new_text = tokenize(new_text)\n",
    "    new_text = list(new_text)\n",
    "\n",
    "    return new_text"
   ]
  },
  {
   "cell_type": "code",
   "execution_count": 25,
   "metadata": {},
   "outputs": [],
   "source": [
    "from mpstemmer import MPStemmer"
   ]
  },
  {
   "cell_type": "code",
   "execution_count": 26,
   "metadata": {},
   "outputs": [],
   "source": [
    "#stemmer \n",
    "stemming = MPStemmer()"
   ]
  },
  {
   "cell_type": "code",
   "execution_count": 27,
   "metadata": {},
   "outputs": [],
   "source": [
    "def clean_text4(text):\n",
    "    new_text = []\n",
    "    text = text.lower()\n",
    "\n",
    "    #remove punctuation\n",
    "    text = text.replace(',', ' ')\n",
    "    text = re.sub(r'[{}]'.format(string.punctuation), ' ', text)\n",
    "    text = ''.join('' if a in string.punctuation else a for a in text)\n",
    "    \n",
    "    #a_dum\n",
    "    text = text.split()\n",
    "    for i,word in enumerate(text):\n",
    "        if 'dok' in word and word.startswith('dok') and len(word) > 3:\n",
    "            text[i] = 'dok ' + word[3:]\n",
    "    text = \" \".join(text)\n",
    "    #c_dum\n",
    "    \n",
    "    #normalization into standar word \n",
    "    for text in text.split():\n",
    "        if text not in std_word_replace:\n",
    "            new_text.append(text)\n",
    "        elif text in std_word_replace:\n",
    "            new_text += std_word_replace[text].split()\n",
    "    #stopword\n",
    "    new_text = ' '.join(stemming.stem(text) for text in new_text if text not in fin_stp)\n",
    "    #d_dum  \n",
    "\n",
    "    # #create token \n",
    "    new_text = tokenize(new_text)\n",
    "    new_text = list(new_text)\n",
    "\n",
    "    return new_text"
   ]
  },
  {
   "cell_type": "code",
   "execution_count": 28,
   "metadata": {},
   "outputs": [],
   "source": [
    "e_dum = train_dummy['question'].apply(lambda x: clean_text3(x))"
   ]
  },
  {
   "cell_type": "code",
   "execution_count": 29,
   "metadata": {},
   "outputs": [
    {
     "data": {
      "text/plain": [
       "0    [hamil, semalam, tidur, makan, minum, buavita,...\n",
       "1    [merasakan, aneh, pernafasan, terdengar, suara...\n",
       "2    [umur, bibir, vagina, benjolan, gatal, keputih...\n",
       "3    [ter, pergi, gigi, graham, kiri, proses, berja...\n",
       "4    [kandungan, jahe, ayam, asma, kumat, rempah, r...\n",
       "5    [radang, tenggorokan, bercak, putih, tenggorok...\n",
       "6    [kandungan, jahe, ayam, asma, kumat, rempah, r...\n",
       "7    [radang, tenggorokan, bercak, putih, tenggorok...\n",
       "8    [diawal, muncul, gatal, miss, v, menggaruknya,...\n",
       "9    [riski, umur, bberpa, merasakan, gatal, menyeb...\n",
       "Name: question, dtype: object"
      ]
     },
     "execution_count": 29,
     "metadata": {},
     "output_type": "execute_result"
    }
   ],
   "source": [
    "e_dum"
   ]
  },
  {
   "cell_type": "code",
   "execution_count": 30,
   "metadata": {},
   "outputs": [],
   "source": [
    "def create_ngrams(texts, min_count=1, threshold=1):\n",
    "    # Tokenize the texts\n",
    "    tokenized_texts = texts\n",
    "    \n",
    "    # Create bigram\n",
    "    bigram = gensim.models.Phrases(tokenized_texts, min_count=min_count, threshold=3)\n",
    "    bigram_phraser = gensim.models.phrases.Phraser(bigram)\n",
    "    \n",
    "    # Create trigram\n",
    "    trigram = gensim.models.Phrases(bigram[tokenized_texts], min_count=min_count, threshold=threshold)\n",
    "    trigram_phraser = gensim.models.phrases.Phraser(trigram)\n",
    "    \n",
    "    # Return the tokenized texts with bigram and trigram\n",
    "    return [[word for word in trigram_phraser[bigram_phraser[text]]] for text in tokenized_texts]"
   ]
  },
  {
   "cell_type": "code",
   "execution_count": 31,
   "metadata": {},
   "outputs": [],
   "source": [
    "bigram1 = gensim.models.Phrases(e_dum, min_count=3, threshold=7)\n",
    "bigram1mod = gensim.models.phrases.Phraser(bigram1)\n",
    "\n",
    "trigram1 = gensim.models.Phrases(bigram1[e_dum], min_count=2, threshold=4.6)\n",
    "trigram1mod = gensim.models.phrases.Phraser(trigram1)"
   ]
  },
  {
   "cell_type": "code",
   "execution_count": 32,
   "metadata": {},
   "outputs": [],
   "source": [
    "def make_bigrams(texts):\n",
    "    return [bigram1mod[doc] for doc in texts]\n",
    "\n",
    "def make_trigrams(texts):\n",
    "    return [trigram1mod[bigram1mod[doc]] for doc in texts]"
   ]
  },
  {
   "cell_type": "code",
   "execution_count": 33,
   "metadata": {},
   "outputs": [],
   "source": [
    "bigramdum = make_bigrams(e_dum)\n",
    "trigramdum = make_trigrams(e_dum)"
   ]
  },
  {
   "attachments": {},
   "cell_type": "markdown",
   "metadata": {},
   "source": [
    "-----"
   ]
  },
  {
   "attachments": {},
   "cell_type": "markdown",
   "metadata": {},
   "source": [
    "# 2019"
   ]
  },
  {
   "cell_type": "code",
   "execution_count": 34,
   "metadata": {},
   "outputs": [
    {
     "data": {
      "text/html": [
       "<div>\n",
       "<style scoped>\n",
       "    .dataframe tbody tr th:only-of-type {\n",
       "        vertical-align: middle;\n",
       "    }\n",
       "\n",
       "    .dataframe tbody tr th {\n",
       "        vertical-align: top;\n",
       "    }\n",
       "\n",
       "    .dataframe thead th {\n",
       "        text-align: right;\n",
       "    }\n",
       "</style>\n",
       "<table border=\"1\" class=\"dataframe\">\n",
       "  <thead>\n",
       "    <tr style=\"text-align: right;\">\n",
       "      <th></th>\n",
       "      <th>index</th>\n",
       "      <th>title</th>\n",
       "      <th>question</th>\n",
       "      <th>user_name</th>\n",
       "      <th>user_type</th>\n",
       "      <th>date</th>\n",
       "      <th>link</th>\n",
       "      <th>tahun</th>\n",
       "    </tr>\n",
       "  </thead>\n",
       "  <tbody>\n",
       "    <tr>\n",
       "      <th>0</th>\n",
       "      <td>107517</td>\n",
       "      <td>Muntah pada ibu hamil 4 bulan setelah konsumsi...</td>\n",
       "      <td>Pagi dok, saya sdg hamil 4 bulan kurang. Semal...</td>\n",
       "      <td>R</td>\n",
       "      <td>Anggota</td>\n",
       "      <td>29 Desember 2019</td>\n",
       "      <td>https://www.alodokter.com/komunitas/topic/hami...</td>\n",
       "      <td>2019</td>\n",
       "    </tr>\n",
       "    <tr>\n",
       "      <th>1</th>\n",
       "      <td>107518</td>\n",
       "      <td>Benjolan di leher yang semakin membesar disert...</td>\n",
       "      <td>Terimakasih dok sebelumnya, Dalam tiga bulan t...</td>\n",
       "      <td>Po***a</td>\n",
       "      <td>Anggota</td>\n",
       "      <td>29 Desember 2019</td>\n",
       "      <td>https://www.alodokter.com/komunitas/topic/apa-...</td>\n",
       "      <td>2019</td>\n",
       "    </tr>\n",
       "    <tr>\n",
       "      <th>2</th>\n",
       "      <td>107519</td>\n",
       "      <td>Benjolan gatal di vagina disertai keputihan ke...</td>\n",
       "      <td>Hallo dok..Saya umur 18 tahun. Di bibir vagina...</td>\n",
       "      <td>Na***a</td>\n",
       "      <td>Anggota</td>\n",
       "      <td>29 Desember 2019</td>\n",
       "      <td>https://www.alodokter.com/komunitas/topic/apak...</td>\n",
       "      <td>2019</td>\n",
       "    </tr>\n",
       "    <tr>\n",
       "      <th>3</th>\n",
       "      <td>107520</td>\n",
       "      <td>Apakah jika dibius total untuk mencabut 3 gigi...</td>\n",
       "      <td>Selamat pagi dokter, 5 tahun lalu sy pernah ak...</td>\n",
       "      <td>Di*n</td>\n",
       "      <td>Anggota</td>\n",
       "      <td>29 Desember 2019</td>\n",
       "      <td>https://www.alodokter.com/komunitas/topic/cabu...</td>\n",
       "      <td>2019</td>\n",
       "    </tr>\n",
       "    <tr>\n",
       "      <th>4</th>\n",
       "      <td>107521</td>\n",
       "      <td>Apakah jahe dan ayam bisa menyebabkan asma kam...</td>\n",
       "      <td>1. Kandungan apa yg terdapat pada jahe dan aya...</td>\n",
       "      <td>Kh******h</td>\n",
       "      <td>Anggota</td>\n",
       "      <td>29 Desember 2019</td>\n",
       "      <td>https://www.alodokter.com/komunitas/topic/jahe...</td>\n",
       "      <td>2019</td>\n",
       "    </tr>\n",
       "  </tbody>\n",
       "</table>\n",
       "</div>"
      ],
      "text/plain": [
       "    index                                              title  \\\n",
       "0  107517  Muntah pada ibu hamil 4 bulan setelah konsumsi...   \n",
       "1  107518  Benjolan di leher yang semakin membesar disert...   \n",
       "2  107519  Benjolan gatal di vagina disertai keputihan ke...   \n",
       "3  107520  Apakah jika dibius total untuk mencabut 3 gigi...   \n",
       "4  107521  Apakah jahe dan ayam bisa menyebabkan asma kam...   \n",
       "\n",
       "                                            question  user_name user_type  \\\n",
       "0  Pagi dok, saya sdg hamil 4 bulan kurang. Semal...          R   Anggota   \n",
       "1  Terimakasih dok sebelumnya, Dalam tiga bulan t...     Po***a   Anggota   \n",
       "2  Hallo dok..Saya umur 18 tahun. Di bibir vagina...     Na***a   Anggota   \n",
       "3  Selamat pagi dokter, 5 tahun lalu sy pernah ak...       Di*n   Anggota   \n",
       "4  1. Kandungan apa yg terdapat pada jahe dan aya...  Kh******h   Anggota   \n",
       "\n",
       "               date                                               link tahun  \n",
       "0  29 Desember 2019  https://www.alodokter.com/komunitas/topic/hami...  2019  \n",
       "1  29 Desember 2019  https://www.alodokter.com/komunitas/topic/apa-...  2019  \n",
       "2  29 Desember 2019  https://www.alodokter.com/komunitas/topic/apak...  2019  \n",
       "3  29 Desember 2019  https://www.alodokter.com/komunitas/topic/cabu...  2019  \n",
       "4  29 Desember 2019  https://www.alodokter.com/komunitas/topic/jahe...  2019  "
      ]
     },
     "execution_count": 34,
     "metadata": {},
     "output_type": "execute_result"
    }
   ],
   "source": [
    "df_train19.head()"
   ]
  },
  {
   "cell_type": "code",
   "execution_count": 35,
   "metadata": {},
   "outputs": [],
   "source": [
    "df_train19 = df_train19.drop('index', axis=1)"
   ]
  },
  {
   "attachments": {},
   "cell_type": "markdown",
   "metadata": {},
   "source": [
    "## clean the dataframe"
   ]
  },
  {
   "cell_type": "code",
   "execution_count": 36,
   "metadata": {},
   "outputs": [],
   "source": [
    "df_train19['clean'] = df_train19['question'].apply(lambda x: clean_text4(x))"
   ]
  },
  {
   "cell_type": "code",
   "execution_count": 37,
   "metadata": {},
   "outputs": [
    {
     "data": {
      "text/plain": [
       "['tahun', 'operasi', 'tumor', 'jinak', 'tumbuh', 'gatal']"
      ]
     },
     "execution_count": 37,
     "metadata": {},
     "output_type": "execute_result"
    }
   ],
   "source": [
    "df_train19['clean'][5123]"
   ]
  },
  {
   "cell_type": "code",
   "execution_count": 38,
   "metadata": {},
   "outputs": [],
   "source": [
    "#ngram \n",
    "big19 = gensim.models.Phrases(df_train19['clean'], min_count=2, threshold=5.5)\n",
    "bigmod = gensim.models.phrases.Phraser(big19)\n",
    "\n",
    "trig19 = gensim.models.Phrases(big19[df_train19['clean']], min_count=2, threshold=2)\n",
    "trigmod = gensim.models.phrases.Phraser(trig19)"
   ]
  },
  {
   "cell_type": "code",
   "execution_count": 39,
   "metadata": {},
   "outputs": [],
   "source": [
    "def make_big(texts):\n",
    "    return [bigmod[doc] for doc in texts]\n",
    "\n",
    "def make_trig(texts):\n",
    "    return [trigmod[bigmod[doc]] for doc in texts]"
   ]
  },
  {
   "cell_type": "code",
   "execution_count": 40,
   "metadata": {},
   "outputs": [],
   "source": [
    "bigrams19 = make_big(df_train19['clean'])\n",
    "trigrams19 = make_trig(df_train19['clean'])"
   ]
  },
  {
   "cell_type": "code",
   "execution_count": 41,
   "metadata": {},
   "outputs": [],
   "source": [
    "token_toremove = ['terima_kasih','kasih','sebab',\n",
    "                  'terima','tanggal','hari','teman',\n",
    "                  'bulan','kah', 'maaf','trimakasih',\n",
    "                  'assalamualaikum', 'jelas_terima', \n",
    "                  'atas_terima', 'hello', 'ku', 'doc', \n",
    "                  'trimakasi', 'trkadang', 'skrg', \n",
    "                  'jelas','cek', 'kemarin', 'apakh', \n",
    "                  'sok', 'tanya', 'ig', 'cerita', 'biar', \n",
    "                  'pakai', 'laku', 'saran', 'ada', 'nomor', \n",
    "                  'sih', 'suka', 'selsai', 'minggu', 'tunggu', \n",
    "                  'keluar', 'solusi', 'alami', 'apa', 'tolong', 'kena',\n",
    "                  'salah', 'orang', 'beda', 'coba', 'batch', \n",
    "                  'amadeo_basfiansa', 'ianya', \n",
    "                  'dlakukan', 'maksud', 'kesan', 'deh', 'and', \n",
    "                  'tanyak', 'nak', 'nyri', 'ubat', 'rana', 'aqua',\n",
    "                  'assalamu_alaikum', 'hai_brtanya', 'gara', 'uk', 'terima_kasih_kasih', \n",
    "                  'smacam', 'nama', 'now_watching', 'tolong_solusi_terima_kasih','tgl',\n",
    "                  'atas_terima_kasih','ass','tolong_jelas','tolong_jelas','nanyak',\n",
    "                  'wass', 'jawabanya_terima_kasih', 'doctor', 'doktor', 'hai', 'terimakasi', \n",
    "                  'misi', 'kemarin_habis', 'tnykn', 'dokk', 'hai_doktor', 'berak_dokk', 'jam', \n",
    "                  'sore', 'umur' ,'sakit', 'sembuh', 'usia', 'kayak', 'knapa', 'terima_kasih_sukses', \n",
    "                  'sekian_terima_kasih', 'umur_alami', 'assalamu_alaikum_nama', 'ter',\n",
    "                  'ter_bedah']\n",
    "for i, doc in enumerate(trigrams19):\n",
    "    trigrams19[i] = [token for token in doc if token != token_toremove]"
   ]
  },
  {
   "cell_type": "code",
   "execution_count": 42,
   "metadata": {},
   "outputs": [],
   "source": [
    "filtered_token = [[token for token in doc if token not in token_toremove] for doc in trigrams19]"
   ]
  },
  {
   "cell_type": "code",
   "execution_count": 43,
   "metadata": {},
   "outputs": [
    {
     "data": {
      "text/plain": [
       "[('obat', 22468),\n",
       " ('anak', 15979),\n",
       " ('darah', 8776),\n",
       " ('normal', 8247),\n",
       " ('hamil', 7817),\n",
       " ('nyeri', 7089),\n",
       " ('hilang', 6895),\n",
       " ('gatal', 6171),\n",
       " ('mata', 6061),\n",
       " ('minum', 5858)]"
      ]
     },
     "execution_count": 43,
     "metadata": {},
     "output_type": "execute_result"
    }
   ],
   "source": [
    "# check removed token\n",
    "word_freq19 = Counter([item for sublist in filtered_token for item in sublist])\n",
    "word_freq19.most_common(10)"
   ]
  },
  {
   "cell_type": "code",
   "execution_count": 44,
   "metadata": {},
   "outputs": [],
   "source": [
    "#create dict\n",
    "dictionary19 = corpora.Dictionary(filtered_token)\n",
    "#create corpus\n",
    "texts = filtered_token\n",
    "corpus19 = [dictionary19.doc2bow(text) for text in texts]"
   ]
  },
  {
   "cell_type": "code",
   "execution_count": null,
   "metadata": {},
   "outputs": [],
   "source": [
    "def compute_coherence_values(dictionary, corpus, texts, limit, start, step):\n",
    "    coherence_values = []\n",
    "    model_list1 = []\n",
    "\n",
    "    for num_topics in range(start, limit, step):\n",
    "        model = LdaModel(corpus=corpus,\n",
    "                        id2word=dictionary,\n",
    "                        num_topics=num_topics, \n",
    "                        random_state=42,\n",
    "                        chunksize=100,\n",
    "                        passes=20,\n",
    "                        update_every=5,\n",
    "                        alpha=0.7,\n",
    "                        eta=0.4,\n",
    "                        decay=0.2,\n",
    "                        iterations=150,\n",
    "                        minimum_probability=0.09,\n",
    "                        per_word_topics=True) \n",
    "        model_list1.append(model)\n",
    "        #check the coherence value\n",
    "        coherencemodel = CoherenceModel(model=model, \n",
    "                                        texts=texts,\n",
    "                                        dictionary=dictionary, \n",
    "                                        coherence='c_v')\n",
    "        coherence_values.append(coherencemodel.get_coherence())\n",
    "\n",
    "        #check the preplexity\n",
    "        perplexity = model.log_perplexity(corpus)\n",
    "\n",
    "    return model_list1, coherence_values, perplexity"
   ]
  },
  {
   "cell_type": "code",
   "execution_count": null,
   "metadata": {},
   "outputs": [],
   "source": [
    "model_list, coherence_values, preplexity = compute_coherence_values(dictionary=dictionary19, corpus=corpus19, texts=filtered_token, start=2, limit=21, step=3) "
   ]
  },
  {
   "cell_type": "code",
   "execution_count": null,
   "metadata": {},
   "outputs": [
    {
     "data": {
      "image/png": "[encoded data removed]",
      "text/plain": [
       "<Figure size 432x288 with 1 Axes>"
      ]
     },
     "metadata": {},
     "output_type": "display_data"
    }
   ],
   "source": [
    "# show graph\n",
    "limit=21; start=2; step=3\n",
    "x = range(start, limit, step)\n",
    "plt.plot(x, coherence_values)\n",
    "plt.xlabel(\"Num Topics\")\n",
    "plt.ylabel(\"Coherence score\")\n",
    "plt.legend((\"coherence_values\"), loc='best')\n",
    "plt.show()"
   ]
  },
  {
   "cell_type": "code",
   "execution_count": null,
   "metadata": {},
   "outputs": [
    {
     "data": {
      "text/plain": [
       "[(0,\n",
       "  '0.045*\"parah\" + 0.041*\"putus_asa\" + 0.026*\"stres\" + 0.022*\"sulit\" + 0.015*\"bingung\" + 0.014*\"obat\" + 0.010*\"riwayat_penyakit\" + 0.010*\"hilang\" + 0.010*\"mual\" + 0.009*\"nyeri\"'),\n",
       " (1,\n",
       "  '0.089*\"makan\" + 0.054*\"mual\" + 0.037*\"darah\" + 0.031*\"muntah\" + 0.030*\"bab_darah\" + 0.030*\"moga\" + 0.030*\"kena_asam_lambung\" + 0.029*\"makan_ikan\" + 0.029*\"faktor_pikir\" + 0.029*\"beliau_bilang\"')]"
      ]
     },
     "execution_count": 189,
     "metadata": {},
     "output_type": "execute_result"
    }
   ],
   "source": [
    "best_model = model_list[np.argmax(coherence_values)]\n",
    "best_model.print_topics()"
   ]
  },
  {
   "cell_type": "code",
   "execution_count": null,
   "metadata": {},
   "outputs": [
    {
     "name": "stderr",
     "output_type": "stream",
     "text": [
      "c:\\Users\\WINDOWS 10\\AppData\\Local\\Programs\\Python\\Python310\\lib\\site-packages\\pyLDAvis\\_prepare.py:244: FutureWarning: In a future version of pandas all arguments of DataFrame.drop except for the argument 'labels' will be keyword-only.\n",
      "  by='saliency', ascending=False).head(R).drop('saliency', 1)\n"
     ]
    },
    {
     "data": {
      "text/html": [
       "\n",
       "<link rel=\"stylesheet\" type=\"text/css\" href=\"https://cdn.jsdelivr.net/gh/bmabey/pyLDAvis@3.4.0/pyLDAvis/js/ldavis.v1.0.0.css\">\n",
       "\n",
       "\n",
       "<div id=\"ldavis_el161202389682602160493896607\" style=\"background-color:white;\"></div>\n",
       "<script type=\"text/javascript\">\n",
       "\n",
       "var ldavis_el161202389682602160493896607_data = {\"mdsDat\": {\"x\": [0.19833187322638543, -0.19833187322638543], \"y\": [0.0, 0.0], \"topics\": [1, 2], \"cluster\": [1, 1], \"Freq\": [62.71548289692589, 37.284517103074116]}, \"tinfo\": {\"Term\": [\"makan\", \"darah\", \"parah\", \"mual\", \"muntah\", \"bab_darah\", \"moga\", \"kena_asam_lambung\", \"makan_ikan\", \"faktor_pikir\", \"jujur_takut\", \"beliau_bilang\", \"putus_asa\", \"anak\", \"riwayat_penyakit\", \"hilang\", \"endoskopi_hasil_luka\", \"arah_serius\", \"asam_lambung_beliau_kesal\", \"apa_memenelam_sensitif\", \"ikut_pantang_sulit\", \"arah_arah_serius\", \"ikan_rebus_jam\", \"nyeri\", \"hamil\", \"gatal\", \"mata\", \"penyakit\", \"tangan\", \"minum\", \"hilang\", \"mata\", \"gatal\", \"nyeri\", \"kaki\", \"tangan\", \"penyakit\", \"gigi\", \"benjol\", \"kulit\", \"kepala\", \"bengkak\", \"operasi\", \"luka\", \"tidur\", \"muncul\", \"gejala\", \"kadang\", \"batuk\", \"kanan\", \"sakit_kepala\", \"kiri\", \"pusing\", \"merah\", \"telinga\", \"badan\", \"wajah\", \"rasa_sakit\", \"panas\", \"tubuh\", \"parah\", \"putus_asa\", \"air\", \"atas\", \"stres\", \"sulit\", \"obat\", \"bingung\", \"rasa\", \"riwayat_penyakit\", \"jalan\", \"mual\", \"makan\", \"darah\", \"muntah\", \"anak\", \"hamil\", \"minum\", \"bab_darah\", \"haid\", \"bayi\", \"anak_umur\", \"bab\", \"susu\", \"anak_usia\", \"istri\", \"menstruasi\", \"moga\", \"konsumsi\", \"suami\", \"lahir\", \"x\", \"sakit_perut\", \"bul\", \"bayi_umur\", \"meni\", \"minum_susu\", \"asi\", \"vagina\", \"bln\", \"aman\", \"bayi_usia\", \"usg\", \"kena_asam_lambung\", \"makan_ikan\", \"faktor_pikir\", \"jujur_takut\", \"tanggal_mei\", \"puasa\", \"beliau_bilang\", \"makan\", \"mual\", \"endoskopi_hasil_luka\", \"apa_memenelam_sensitif\", \"arah_arah_serius\", \"arah_serius\", \"asam_lambung_beliau_kesal\", \"ikan_rebus_jam\", \"ikut_pantang_sulit\", \"riwayat_penyakit\", \"bingung\", \"perut\", \"normal\", \"sulit\", \"obat\", \"stres\", \"minum_obat\"], \"Freq\": [50109.0, 18499.0, 37877.0, 34963.0, 15321.0, 14776.0, 14713.0, 14700.0, 14682.0, 14718.0, 14366.0, 15298.0, 35164.0, 6617.0, 19720.0, 8220.0, 10375.0, 10375.0, 10375.0, 10375.0, 10375.0, 10375.0, 10375.0, 7479.0, 3399.0, 6899.0, 6810.0, 6522.0, 5544.0, 2577.0, 8220.412878410323, 6810.520418399094, 6899.648490182941, 7479.140338961132, 5411.997350367234, 5543.713896445605, 6522.134296148467, 4648.975362706131, 4306.8700587193525, 4597.330481773545, 4410.516292443008, 4138.917778925897, 3975.874470374467, 3602.801208195306, 3701.463055692699, 3490.4235519924687, 4315.021874283595, 3085.3790013409393, 4550.486503188045, 2877.8219983432487, 2784.90879407733, 2775.314569755285, 2551.982617992837, 2797.099781774156, 2006.6426780688741, 3867.2143064101056, 1680.9473247888748, 2161.029201651296, 3480.56595833114, 2002.7218763625817, 37859.29548481784, 34390.69135370308, 3052.37289488898, 4373.735938145878, 21872.38707580503, 18769.962344341227, 11598.094527600828, 12528.312701527848, 3177.2087954982485, 8352.580359445992, 3385.1582285298973, 8092.020811430922, 6016.5417459195405, 18498.73776929765, 15319.742829645626, 6616.386262169783, 3398.958994460262, 2576.882766156988, 14771.842383209332, 1864.8353640553628, 1418.2981087017888, 1343.3986554252972, 1147.2950542021674, 1140.7540844910986, 1128.135164283042, 946.2665439663782, 890.8655496874389, 14702.734541120497, 932.3830162517332, 766.6640254234447, 638.8119060706447, 832.8341741058478, 630.7569085950407, 516.4219574814072, 426.96556490433113, 436.9836274955852, 390.9352862385753, 381.357305672983, 425.30334094761764, 408.08872104582224, 410.58225919791886, 371.48764149093364, 353.3106996488177, 14667.314437887722, 14470.292655812313, 14360.972513623632, 13967.88480046829, 613.2825842551006, 534.6099923718265, 14333.54495169346, 44093.1475835517, 26871.177150624244, 6971.242246557783, 6971.18400805419, 6971.18400805419, 6971.18400805419, 6971.18400805419, 6971.18400805419, 6971.18400805419, 11367.599400073883, 10120.823044212635, 1957.6225888262695, 2872.085421083076, 7322.666319126916, 4935.257440095562, 6043.167319612005, 1938.3743011784761], \"Total\": [50109.0, 18499.0, 37877.0, 34963.0, 15321.0, 14776.0, 14713.0, 14700.0, 14682.0, 14718.0, 14366.0, 15298.0, 35164.0, 6617.0, 19720.0, 8220.0, 10375.0, 10375.0, 10375.0, 10375.0, 10375.0, 10375.0, 10375.0, 7479.0, 3399.0, 6899.0, 6810.0, 6522.0, 5544.0, 2577.0, 8220.693735206445, 6810.777105803214, 6899.909239390247, 7479.428257470338, 5412.260957977658, 5544.0026813453105, 6522.475323230143, 4649.240999454956, 4307.128781581156, 4597.614969363963, 4410.790432293663, 4139.178677256977, 3976.1583054425882, 3603.067657902843, 3701.7718125141323, 3490.7207194762673, 4315.405998615115, 3085.6636471390975, 4550.907303165746, 2878.0928915781046, 2785.1782503243694, 2775.593617515858, 2552.2803955976774, 2797.440769811696, 2006.898860974239, 3867.7672346768686, 1681.2054266965813, 2161.362343905186, 3481.1056787341467, 2003.0330143967026, 37877.014636200416, 35164.6576670537, 3052.8725628922925, 4454.149134749692, 27915.554395417035, 26092.628663468146, 16533.35196769639, 22649.13574574048, 3390.659194338049, 19720.179759519873, 3837.8779228067965, 34963.197962055165, 50109.689329471235, 18499.667655801448, 15321.031158456699, 6617.054303532716, 3399.591056246305, 2577.629152552595, 14776.296642594907, 1865.4676520985065, 1418.9446346658144, 1344.098710649482, 1147.9440477352448, 1141.4044866264785, 1128.8354396428583, 946.9187339978959, 891.5022943501032, 14713.739118580233, 933.1231988940245, 767.4354422700736, 639.4627882431117, 833.6880210457155, 631.5575195358404, 517.0938551802359, 427.61816440995165, 437.6811428319637, 391.5656996410386, 381.97305208226885, 425.9990925890164, 408.7624389564527, 411.2681410850964, 372.1279241730856, 353.94163351853786, 14700.621982575043, 14682.871801120513, 14718.817367009178, 14366.080873640127, 614.9002963312338, 536.7271996456913, 15298.018438525263, 50109.689329471235, 34963.197962055165, 10375.918961472067, 10375.835455061386, 10375.835455061386, 10375.835455061386, 10375.835455061386, 10375.835455061386, 10375.835455061386, 19720.179759519873, 22649.13574574048, 2766.5434867555796, 4922.825261868258, 26092.628663468146, 16533.35196769639, 27915.554395417035, 3140.5572760911537], \"Category\": [\"Default\", \"Default\", \"Default\", \"Default\", \"Default\", \"Default\", \"Default\", \"Default\", \"Default\", \"Default\", \"Default\", \"Default\", \"Default\", \"Default\", \"Default\", \"Default\", \"Default\", \"Default\", \"Default\", \"Default\", \"Default\", \"Default\", \"Default\", \"Default\", \"Default\", \"Default\", \"Default\", \"Default\", \"Default\", \"Default\", \"Topic1\", \"Topic1\", \"Topic1\", \"Topic1\", \"Topic1\", \"Topic1\", \"Topic1\", \"Topic1\", \"Topic1\", \"Topic1\", \"Topic1\", \"Topic1\", \"Topic1\", \"Topic1\", \"Topic1\", \"Topic1\", \"Topic1\", \"Topic1\", \"Topic1\", \"Topic1\", \"Topic1\", \"Topic1\", \"Topic1\", \"Topic1\", \"Topic1\", \"Topic1\", \"Topic1\", \"Topic1\", \"Topic1\", \"Topic1\", \"Topic1\", \"Topic1\", \"Topic1\", \"Topic1\", \"Topic1\", \"Topic1\", \"Topic1\", \"Topic1\", \"Topic1\", \"Topic1\", \"Topic1\", \"Topic1\", \"Topic1\", \"Topic2\", \"Topic2\", \"Topic2\", \"Topic2\", \"Topic2\", \"Topic2\", \"Topic2\", \"Topic2\", \"Topic2\", \"Topic2\", \"Topic2\", \"Topic2\", \"Topic2\", \"Topic2\", \"Topic2\", \"Topic2\", \"Topic2\", \"Topic2\", \"Topic2\", \"Topic2\", \"Topic2\", \"Topic2\", \"Topic2\", \"Topic2\", \"Topic2\", \"Topic2\", \"Topic2\", \"Topic2\", \"Topic2\", \"Topic2\", \"Topic2\", \"Topic2\", \"Topic2\", \"Topic2\", \"Topic2\", \"Topic2\", \"Topic2\", \"Topic2\", \"Topic2\", \"Topic2\", \"Topic2\", \"Topic2\", \"Topic2\", \"Topic2\", \"Topic2\", \"Topic2\", \"Topic2\", \"Topic2\", \"Topic2\", \"Topic2\", \"Topic2\", \"Topic2\", \"Topic2\", \"Topic2\"], \"logprob\": [30.0, 29.0, 28.0, 27.0, 26.0, 25.0, 24.0, 23.0, 22.0, 21.0, 20.0, 19.0, 18.0, 17.0, 16.0, 15.0, 14.0, 13.0, 12.0, 11.0, 10.0, 9.0, 8.0, 7.0, 6.0, 5.0, 4.0, 3.0, 2.0, 1.0, -4.6206, -4.8087, -4.7957, -4.7151, -5.0386, -5.0145, -4.852, -5.1906, -5.267, -5.2017, -5.2432, -5.3068, -5.347, -5.4455, -5.4185, -5.4772, -5.2651, -5.6005, -5.212, -5.6702, -5.703, -5.7064, -5.7903, -5.6986, -6.0307, -5.3747, -6.2078, -5.9566, -5.48, -6.0327, -3.0933, -3.1894, -5.6113, -5.2516, -3.642, -3.7949, -4.2764, -4.1992, -5.5712, -4.6046, -5.5078, -4.6363, -4.9327, -3.2895, -3.478, -4.3176, -4.9837, -5.2606, -3.5144, -5.584, -5.8577, -5.912, -6.0698, -6.0755, -6.0866, -6.2624, -6.3227, -3.5191, -6.2772, -6.4729, -6.6553, -6.3901, -6.668, -6.868, -7.0582, -7.035, -7.1464, -7.1712, -7.0621, -7.1034, -7.0973, -7.1974, -7.2476, -3.5215, -3.5351, -3.5427, -3.5704, -6.6961, -6.8334, -3.5446, -2.4209, -2.9161, -4.2654, -4.2654, -4.2654, -4.2654, -4.2654, -4.2654, -4.2654, -3.7764, -3.8926, -5.5354, -5.1521, -4.2162, -4.6108, -4.4082, -5.5453], \"loglift\": [30.0, 29.0, 28.0, 27.0, 26.0, 25.0, 24.0, 23.0, 22.0, 21.0, 20.0, 19.0, 18.0, 17.0, 16.0, 15.0, 14.0, 13.0, 12.0, 11.0, 10.0, 9.0, 8.0, 7.0, 6.0, 5.0, 4.0, 3.0, 2.0, 1.0, 0.4665, 0.4665, 0.4665, 0.4665, 0.4665, 0.4665, 0.4665, 0.4665, 0.4665, 0.4665, 0.4665, 0.4665, 0.4665, 0.4665, 0.4665, 0.4665, 0.4665, 0.4665, 0.4665, 0.4665, 0.4665, 0.4665, 0.4664, 0.4664, 0.4664, 0.4664, 0.4664, 0.4664, 0.4664, 0.4664, 0.4661, 0.4443, 0.4664, 0.4483, 0.2226, 0.1372, 0.112, -0.1256, 0.4015, -0.3925, 0.341, -0.9969, -1.6531, 0.9865, 0.9865, 0.9865, 0.9864, 0.9863, 0.9863, 0.9863, 0.9861, 0.9861, 0.986, 0.986, 0.986, 0.9859, 0.9859, 0.9858, 0.9858, 0.9856, 0.9856, 0.9856, 0.9853, 0.9853, 0.9851, 0.985, 0.985, 0.985, 0.985, 0.9849, 0.9849, 0.9849, 0.9848, 0.9843, 0.972, 0.962, 0.9585, 0.984, 0.9826, 0.9215, 0.8587, 0.7234, 0.5889, 0.5889, 0.5889, 0.5889, 0.5889, 0.5889, 0.5889, 0.4357, 0.1811, 0.6407, 0.4477, -0.2841, -0.2224, -0.5437, 0.504]}, \"token.table\": {\"Topic\": [1, 1, 2, 1, 2, 1, 2, 1, 2, 1, 2, 1, 2, 1, 2, 1, 2, 1, 2, 1, 2, 1, 2, 1, 2, 1, 2, 1, 1, 2, 1, 2, 1, 2, 1, 2, 1, 1, 1, 2, 1, 2, 1, 2, 1, 2, 1, 2, 1, 2, 1, 1, 1, 1, 2, 1, 2, 1, 1, 2, 1, 2, 1, 2, 1, 2, 1, 2, 1, 1, 1, 1, 2, 1, 1, 1, 2, 1, 1, 2, 1, 1, 2, 1, 2, 1, 1, 2, 1, 2, 1, 1, 2, 1, 2, 1, 2, 1, 2, 1, 2, 1, 1, 2, 1, 2, 1, 1, 2, 1, 1, 2, 1, 2, 1, 1, 2, 1, 2, 1, 1, 2, 1, 2, 1, 1, 2, 1, 1, 2, 1, 2, 1, 2, 1, 2, 1, 2, 1, 1, 2, 1, 1, 1, 1, 2, 1, 2, 1, 1, 2], \"Freq\": [0.9997141829950917, 0.0024315036836103673, 0.9993480139638609, 0.00015112464763454027, 0.9998406687501183, 0.0007439929761682384, 0.9991825669939441, 0.0008858687146785369, 0.9992599101573896, 0.32816634523044824, 0.6718495132456549, 0.32816634523044824, 0.6718495132456549, 0.32816634523044824, 0.6718495132456549, 0.32816634523044824, 0.6718495132456549, 0.002617985731057858, 0.997452563533044, 0.9820057361518506, 0.01796078163972292, 0.0008711225969356951, 0.9991776186852422, 0.0002707038236136513, 0.9997092206052144, 0.999801633699673, 0.00025854709948271864, 0.9998006324661645, 0.0007047491322559721, 0.9993342695389684, 0.002338534896850906, 0.9985544009553369, 0.002687247946313419, 0.9969689880822784, 0.06301469722198413, 0.9369840974895443, 0.9999568326784348, 0.9999701003643758, 0.55313368865989, 0.44686031792199443, 0.002446408732057043, 0.9981347626792737, 0.0019338849030635734, 0.997884609980804, 5.405502512832454e-05, 0.9999639098488756, 0.3281637041156036, 0.671844106135058, 0.024322606298684213, 0.9756898018307373, 1.0000131538845807, 0.9999059187906664, 0.9999481636991964, 0.0005360586118312357, 0.9997493110652547, 0.0002941530270714857, 0.9998261390159798, 0.9999156111115691, 0.32816634523044824, 0.6718495132456549, 0.32816634523044824, 0.6718495132456549, 0.001056056833703136, 0.9990297646831667, 0.8819978300728262, 0.11803397844106064, 0.027704145862792528, 0.972290224651975, 0.9997849256383752, 0.9999517839254825, 0.9999677246073688, 0.002244802977664183, 0.9977128870727445, 1.0000475125058772, 0.9997861295284324, 0.001071669851510755, 0.9987963016080237, 0.9998662416561499, 0.0015638126539738834, 0.9992762858893115, 0.9999812221392249, 0.12007657761432568, 0.8799296221951907, 0.014506698885959426, 0.9855020322996849, 1.0000327266908495, 0.0022847682985143456, 0.998443746450769, 0.0011217021047926642, 0.9994365753702638, 0.9998424381969218, 0.00038795340245500874, 0.9997559181265576, 0.38273462138415476, 0.6170879336459999, 0.0025538498415891217, 0.9985552880613466, 0.0007476005868630229, 0.9992701298770024, 0.2314433596372414, 0.7685509783505085, 0.9997935327589382, 6.52697582595825e-05, 0.9999326965368039, 0.4166306726112855, 0.5834048228862077, 0.999942741950909, 0.7014911448483463, 0.298487566806914, 0.9999601863330312, 0.999969642193056, 0.00028726505090291755, 0.9995243913393533, 0.0004752222468662236, 0.999927125331015, 0.292422658047115, 0.7077423540868369, 0.003726287770249498, 0.9967819785417407, 0.9998901391876218, 0.9779989990410584, 0.022010736101240998, 0.9369859422336425, 0.06281964296372863, 0.9998323539288968, 0.42357626055450165, 0.5764653334111787, 0.9999360003890779, 0.001583387053541765, 0.9991172307848538, 0.7835058437381699, 0.21647429653025604, 0.0013030412004975957, 0.9994326007816559, 0.7193602546561192, 0.28065397681655624, 0.0008761136054016996, 0.9996456237633391, 0.9999995163520898, 0.003252559824629914, 0.9969095862490687, 1.0000503956764977, 0.9997915018663432, 0.9999835177970282, 0.0028253245882915454, 0.9973395796669156, 0.0023474228405569687, 0.9976547072367117, 0.9998778098777703, 0.0011994894669899122, 0.9991747260025969], \"Term\": [\"air\", \"aman\", \"aman\", \"anak\", \"anak\", \"anak_umur\", \"anak_umur\", \"anak_usia\", \"anak_usia\", \"apa_memenelam_sensitif\", \"apa_memenelam_sensitif\", \"arah_arah_serius\", \"arah_arah_serius\", \"arah_serius\", \"arah_serius\", \"asam_lambung_beliau_kesal\", \"asam_lambung_beliau_kesal\", \"asi\", \"asi\", \"atas\", \"atas\", \"bab\", \"bab\", \"bab_darah\", \"bab_darah\", \"badan\", \"badan\", \"batuk\", \"bayi\", \"bayi\", \"bayi_umur\", \"bayi_umur\", \"bayi_usia\", \"bayi_usia\", \"beliau_bilang\", \"beliau_bilang\", \"bengkak\", \"benjol\", \"bingung\", \"bingung\", \"bln\", \"bln\", \"bul\", \"bul\", \"darah\", \"darah\", \"endoskopi_hasil_luka\", \"endoskopi_hasil_luka\", \"faktor_pikir\", \"faktor_pikir\", \"gatal\", \"gejala\", \"gigi\", \"haid\", \"haid\", \"hamil\", \"hamil\", \"hilang\", \"ikan_rebus_jam\", \"ikan_rebus_jam\", \"ikut_pantang_sulit\", \"ikut_pantang_sulit\", \"istri\", \"istri\", \"jalan\", \"jalan\", \"jujur_takut\", \"jujur_takut\", \"kadang\", \"kaki\", \"kanan\", \"kena_asam_lambung\", \"kena_asam_lambung\", \"kepala\", \"kiri\", \"konsumsi\", \"konsumsi\", \"kulit\", \"lahir\", \"lahir\", \"luka\", \"makan\", \"makan\", \"makan_ikan\", \"makan_ikan\", \"mata\", \"meni\", \"meni\", \"menstruasi\", \"menstruasi\", \"merah\", \"minum\", \"minum\", \"minum_obat\", \"minum_obat\", \"minum_susu\", \"minum_susu\", \"moga\", \"moga\", \"mual\", \"mual\", \"muncul\", \"muntah\", \"muntah\", \"normal\", \"normal\", \"nyeri\", \"obat\", \"obat\", \"operasi\", \"panas\", \"panas\", \"parah\", \"parah\", \"penyakit\", \"perut\", \"perut\", \"puasa\", \"puasa\", \"pusing\", \"putus_asa\", \"putus_asa\", \"rasa\", \"rasa\", \"rasa_sakit\", \"riwayat_penyakit\", \"riwayat_penyakit\", \"sakit_kepala\", \"sakit_perut\", \"sakit_perut\", \"stres\", \"stres\", \"suami\", \"suami\", \"sulit\", \"sulit\", \"susu\", \"susu\", \"tangan\", \"tanggal_mei\", \"tanggal_mei\", \"telinga\", \"tidur\", \"tubuh\", \"usg\", \"usg\", \"vagina\", \"vagina\", \"wajah\", \"x\", \"x\"]}, \"R\": 30, \"lambda.step\": 0.01, \"plot.opts\": {\"xlab\": \"PC1\", \"ylab\": \"PC2\"}, \"topic.order\": [1, 2]};\n",
       "\n",
       "function LDAvis_load_lib(url, callback){\n",
       "  var s = document.createElement('script');\n",
       "  s.src = url;\n",
       "  s.async = true;\n",
       "  s.onreadystatechange = s.onload = callback;\n",
       "  s.onerror = function(){console.warn(\"failed to load library \" + url);};\n",
       "  document.getElementsByTagName(\"head\")[0].appendChild(s);\n",
       "}\n",
       "\n",
       "if(typeof(LDAvis) !== \"undefined\"){\n",
       "   // already loaded: just create the visualization\n",
       "   !function(LDAvis){\n",
       "       new LDAvis(\"#\" + \"ldavis_el161202389682602160493896607\", ldavis_el161202389682602160493896607_data);\n",
       "   }(LDAvis);\n",
       "}else if(typeof define === \"function\" && define.amd){\n",
       "   // require.js is available: use it to load d3/LDAvis\n",
       "   require.config({paths: {d3: \"https://d3js.org/d3.v5\"}});\n",
       "   require([\"d3\"], function(d3){\n",
       "      window.d3 = d3;\n",
       "      LDAvis_load_lib(\"https://cdn.jsdelivr.net/gh/bmabey/pyLDAvis@3.4.0/pyLDAvis/js/ldavis.v3.0.0.js\", function(){\n",
       "        new LDAvis(\"#\" + \"ldavis_el161202389682602160493896607\", ldavis_el161202389682602160493896607_data);\n",
       "      });\n",
       "    });\n",
       "}else{\n",
       "    // require.js not available: dynamically load d3 & LDAvis\n",
       "    LDAvis_load_lib(\"https://d3js.org/d3.v5.js\", function(){\n",
       "         LDAvis_load_lib(\"https://cdn.jsdelivr.net/gh/bmabey/pyLDAvis@3.4.0/pyLDAvis/js/ldavis.v3.0.0.js\", function(){\n",
       "                 new LDAvis(\"#\" + \"ldavis_el161202389682602160493896607\", ldavis_el161202389682602160493896607_data);\n",
       "            })\n",
       "         });\n",
       "}\n",
       "</script>"
      ],
      "text/plain": [
       "<IPython.core.display.HTML object>"
      ]
     },
     "execution_count": 190,
     "metadata": {},
     "output_type": "execute_result"
    }
   ],
   "source": [
    "vis = gensimvis.prepare(best_model, corpus19, dictionary19)\n",
    "pyLDAvis.display(vis)"
   ]
  }
 ],
 "metadata": {
  "kernelspec": {
   "display_name": "Python 3",
   "language": "python",
   "name": "python3"
  },
  "language_info": {
   "codemirror_mode": {
    "name": "ipython",
    "version": 3
   },
   "file_extension": ".py",
   "mimetype": "text/x-python",
   "name": "python",
   "nbconvert_exporter": "python",
   "pygments_lexer": "ipython3",
   "version": "3.10.2"
  },
  "orig_nbformat": 4
 },
 "nbformat": 4,
 "nbformat_minor": 2
}
