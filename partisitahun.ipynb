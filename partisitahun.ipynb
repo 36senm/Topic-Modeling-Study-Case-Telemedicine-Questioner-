{
 "cells": [
  {
   "cell_type": "code",
   "execution_count": 13,
   "metadata": {},
   "outputs": [],
   "source": [
    "import pandas as pd\n",
    "import numpy as np\n",
    "import matplotlib.pyplot as plt\n",
    "import seaborn as sns\n",
    "import re\n",
    "import glob\n",
    "import os\n",
    "import string\n",
    "import plotly.express as px\n",
    "from pathlib import Path\n",
    "from datetime import datetime\n",
    "from babel.dates import format_datetime\n",
    "import datetime as dt\n",
    "from nltk.corpus import stopwords\n",
    "from nltk.tokenize import word_tokenize\n",
    "from Sastrawi.Stemmer.StemmerFactory import StemmerFactory\n",
    "from mpstemmer import MPStemmer\n",
    "from Sastrawi.StopWordRemover.StopWordRemoverFactory import StopWordRemoverFactory, StopWordRemover, ArrayDictionary\n",
    "import nltk\n",
    "import gensim\n",
    "from gensim.models import CoherenceModel\n",
    "from gensim.models import LdaModel\n",
    "import pyLDAvis\n",
    "import pyLDAvis.gensim_models  # don't skip this\n",
    "import matplotlib.pyplot as plt\n",
    "import gensim.corpora as corpora\n",
    "import calendar\n",
    "from nltk.util import ngrams\n",
    "from nltk.util import bigrams\n",
    "from nltk.util import trigrams\n",
    "from sklearn.feature_extraction.text import CountVectorizer\n",
    "from gensim.models.phrases import Phrases, Phraser\n",
    "from collections import Counter\n",
    "import pyLDAvis.gensim_models as gensimvis"
   ]
  },
  {
   "cell_type": "code",
   "execution_count": 14,
   "metadata": {},
   "outputs": [],
   "source": [
    "import pandas as pd\n",
    "import numpy as np\n",
    "\n",
    "import pickle as pk\n",
    "\n",
    "import warnings\n",
    "warnings.filterwarnings(\"ignore\")\n",
    "\n",
    "\n",
    "from bs4 import BeautifulSoup\n",
    "import unicodedata\n",
    "import re\n",
    "\n",
    "from nltk.tokenize import word_tokenize\n",
    "from nltk.tokenize import sent_tokenize\n",
    "\n",
    "from nltk.corpus import stopwords\n",
    "\n",
    "\n",
    "from nltk.corpus import wordnet\n",
    "from nltk import pos_tag\n",
    "from nltk import ne_chunk\n",
    "\n",
    "from nltk.stem.porter import PorterStemmer\n",
    "from nltk.stem.wordnet import WordNetLemmatizer\n",
    "\n",
    "from nltk.probability import FreqDist\n",
    "import matplotlib.pyplot as plt\n",
    "from wordcloud import WordCloud"
   ]
  },
  {
   "attachments": {},
   "cell_type": "markdown",
   "metadata": {},
   "source": [
    "**Our objective here to create a models that able to classified a topic to data we collect from scrapping, here are the possible sequence on what we should do:**\n",
    "\n",
    "* Text Preprocessing : this include cleaning the dataset from noise such as punctuation, stop words, as well doing stemming or lemmatization to the text\n",
    "\n",
    "* Bag of words : process of creating a dictionary of unique words from the corpus and unique integer IDs that are used to represent those words in the LDA model. \n",
    "\n",
    "* Corpus : involves creating a list of bag-of-words vectors, where each vector corresponds to a document in the corpus. \n",
    "\n",
    "* Train the models : here we using LDA to generate our models\n",
    "\n",
    "* Evaluate : which include understanding what topics able to tell us if there is meaning in it, usually evaluating the quality of the topics extracted, using metrics by using Coherence or perplexity technique\n",
    "\n",
    "* Inference : applied the models to the inference dataset"
   ]
  },
  {
   "attachments": {},
   "cell_type": "markdown",
   "metadata": {},
   "source": [
    "# Import dataset"
   ]
  },
  {
   "cell_type": "code",
   "execution_count": 15,
   "metadata": {},
   "outputs": [],
   "source": [
    "path = 'C:/Users/WINDOWS 10/Documents/Skripsi/scrapingFIX' #/FIXCSV\n",
    "li = []\n",
    "\n",
    "for file in Path(path + '/FIXCSV').glob('*.csv'):\n",
    "    li.append(pd.read_csv(file))\n",
    "\n",
    "df = pd.concat(li, axis=0, ignore_index=True)"
   ]
  },
  {
   "cell_type": "code",
   "execution_count": 16,
   "metadata": {},
   "outputs": [],
   "source": [
    "df_train = df.copy()"
   ]
  },
  {
   "cell_type": "code",
   "execution_count": 17,
   "metadata": {},
   "outputs": [],
   "source": [
    "df_train['tahun'] = df_train['date'].str.split().str[-1]"
   ]
  },
  {
   "cell_type": "code",
   "execution_count": 18,
   "metadata": {},
   "outputs": [],
   "source": [
    "df_train['bulan'] = df_train['date'].str.split().str[1]"
   ]
  },
  {
   "attachments": {},
   "cell_type": "markdown",
   "metadata": {},
   "source": [
    "# Create Text Prepocessing Function"
   ]
  },
  {
   "attachments": {},
   "cell_type": "markdown",
   "metadata": {},
   "source": [
    "### Stemmer"
   ]
  },
  {
   "cell_type": "code",
   "execution_count": 19,
   "metadata": {},
   "outputs": [],
   "source": [
    "stemmer = StemmerFactory().create_stemmer()\n",
    "stemmer2 = MPStemmer()"
   ]
  },
  {
   "attachments": {},
   "cell_type": "markdown",
   "metadata": {},
   "source": [
    "### Stopword "
   ]
  },
  {
   "attachments": {},
   "cell_type": "markdown",
   "metadata": {},
   "source": [
    "NLTK"
   ]
  },
  {
   "cell_type": "code",
   "execution_count": 77,
   "metadata": {},
   "outputs": [],
   "source": [
    "#add newstopword\n",
    "stopword = stopwords.words('indonesian')\n",
    "more_stopword = ['dok','dokter','selamat','halo','hallo','hi','alodokter',\n",
    "                 'tadi','terus','nya','lalu','apa','jadi','bahkan','iya',\n",
    "                 'kira','terimakasih','Dokter','Dok', 'langsung ',\n",
    "                 'minggu', 'malam', 'siang', 'kali', 'sebab','alami', \n",
    "                 'pagi','kadang','mohon', 'terima','kasih','siang','sore','malam','pagi','alo','apa','semalam',\n",
    "                 'tanggal','umur','tahun','bulan','hari','jam','minggu','kali','kemarin','kemaren','kemarinnya','kemarennya'\n",
    "                 ,'apa']\n",
    "stopword.extend(more_stopword)\n",
    "not_stopword = {'capek','dpt'}\n",
    "#fix stopword\n",
    "fin_stp = set([word for word in stopword if word not in not_stopword])"
   ]
  },
  {
   "cell_type": "code",
   "execution_count": 21,
   "metadata": {},
   "outputs": [],
   "source": [
    "# sastrawi stopword\n",
    "stop_word2 = StopWordRemoverFactory()\n",
    "data_stp2 = stop_word2.get_stop_words() + more_stopword"
   ]
  },
  {
   "cell_type": "code",
   "execution_count": 22,
   "metadata": {},
   "outputs": [],
   "source": [
    "data_stp2.remove('tidak')\n",
    "data_stp2.remove('ya')"
   ]
  },
  {
   "cell_type": "code",
   "execution_count": 23,
   "metadata": {},
   "outputs": [],
   "source": [
    "final_stopword2 = StopWordRemover(ArrayDictionary(data_stp2))"
   ]
  },
  {
   "attachments": {},
   "cell_type": "markdown",
   "metadata": {},
   "source": [
    "### Slang ke baku"
   ]
  },
  {
   "cell_type": "code",
   "execution_count": 24,
   "metadata": {},
   "outputs": [],
   "source": [
    "#slang word\n",
    "baku = pd.read_csv(path + '/baku/baku[ori].csv')\n",
    "\n",
    "std_word_replace = {}\n",
    "for i, row in enumerate(baku['slang']):\n",
    "    std_word_replace[row] = baku['baku'].iloc[i]"
   ]
  },
  {
   "attachments": {},
   "cell_type": "markdown",
   "metadata": {},
   "source": [
    "## Function"
   ]
  },
  {
   "cell_type": "code",
   "execution_count": 25,
   "metadata": {},
   "outputs": [],
   "source": [
    "from gensim.utils import tokenize"
   ]
  },
  {
   "attachments": {},
   "cell_type": "markdown",
   "metadata": {},
   "source": [
    "## trial&error"
   ]
  },
  {
   "attachments": {},
   "cell_type": "markdown",
   "metadata": {},
   "source": [
    "# 2018"
   ]
  },
  {
   "attachments": {},
   "cell_type": "markdown",
   "metadata": {},
   "source": [
    "## EDA"
   ]
  },
  {
   "cell_type": "code",
   "execution_count": 26,
   "metadata": {},
   "outputs": [],
   "source": [
    "df_2018 = df_train[df_train['tahun'] == '2018'].reset_index(drop=True)"
   ]
  },
  {
   "cell_type": "code",
   "execution_count": 27,
   "metadata": {},
   "outputs": [],
   "source": [
    "#map for datetime format\n",
    "bulan_map = {'Januari': 1, 'Februari': 2, 'Maret': 3, 'April': 4, 'Mei': 5, 'Juni': 6, 'Juli': 7, 'Agustus': 8, 'September': 9, 'Oktober': 10, 'November': 11, 'Desember': 12}\n",
    "df_2018['bulan'] = df_2018['bulan'].map(bulan_map)"
   ]
  },
  {
   "cell_type": "code",
   "execution_count": 28,
   "metadata": {},
   "outputs": [],
   "source": [
    "# datetime format\n",
    "order_month = ['January', 'February', 'March', 'April', 'May', 'June', 'July', 'August', 'September', 'October', 'November', 'December']\n",
    "df_2018['bulan'] = df_2018['bulan'].apply(lambda x: calendar.month_name[x])\n",
    "df_2018['bulan'] = pd.Categorical(df_2018['bulan'], categories=order_month, ordered=True)"
   ]
  },
  {
   "cell_type": "code",
   "execution_count": 29,
   "metadata": {},
   "outputs": [
    {
     "data": {
      "application/vnd.plotly.v1+json": {
       "config": {
        "plotlyServerURL": "https://plot.ly"
       },
       "data": [
        {
         "hovertemplate": "bulan=%{x}<br>jumlah=%{y}<extra></extra>",
         "legendgroup": "",
         "line": {
          "color": "#636efa",
          "dash": "solid"
         },
         "marker": {
          "symbol": "circle"
         },
         "mode": "markers+lines",
         "name": "",
         "orientation": "v",
         "showlegend": false,
         "type": "scatter",
         "x": [
          "January",
          "February",
          "March",
          "April",
          "May",
          "June",
          "July",
          "August",
          "September",
          "October",
          "November",
          "December"
         ],
         "xaxis": "x",
         "y": [
          9827,
          7410,
          5711,
          5085,
          3776,
          3112,
          2197,
          1701,
          3979,
          3087,
          3699,
          3527
         ],
         "yaxis": "y"
        }
       ],
       "layout": {
        "legend": {
         "tracegroupgap": 0
        },
        "plot_bgcolor": "white",
        "template": {
         "data": {
          "bar": [
           {
            "error_x": {
             "color": "#2a3f5f"
            },
            "error_y": {
             "color": "#2a3f5f"
            },
            "marker": {
             "line": {
              "color": "#E5ECF6",
              "width": 0.5
             },
             "pattern": {
              "fillmode": "overlay",
              "size": 10,
              "solidity": 0.2
             }
            },
            "type": "bar"
           }
          ],
          "barpolar": [
           {
            "marker": {
             "line": {
              "color": "#E5ECF6",
              "width": 0.5
             },
             "pattern": {
              "fillmode": "overlay",
              "size": 10,
              "solidity": 0.2
             }
            },
            "type": "barpolar"
           }
          ],
          "carpet": [
           {
            "aaxis": {
             "endlinecolor": "#2a3f5f",
             "gridcolor": "white",
             "linecolor": "white",
             "minorgridcolor": "white",
             "startlinecolor": "#2a3f5f"
            },
            "baxis": {
             "endlinecolor": "#2a3f5f",
             "gridcolor": "white",
             "linecolor": "white",
             "minorgridcolor": "white",
             "startlinecolor": "#2a3f5f"
            },
            "type": "carpet"
           }
          ],
          "choropleth": [
           {
            "colorbar": {
             "outlinewidth": 0,
             "ticks": ""
            },
            "type": "choropleth"
           }
          ],
          "contour": [
           {
            "colorbar": {
             "outlinewidth": 0,
             "ticks": ""
            },
            "colorscale": [
             [
              0,
              "#0d0887"
             ],
             [
              0.1111111111111111,
              "#46039f"
             ],
             [
              0.2222222222222222,
              "#7201a8"
             ],
             [
              0.3333333333333333,
              "#9c179e"
             ],
             [
              0.4444444444444444,
              "#bd3786"
             ],
             [
              0.5555555555555556,
              "#d8576b"
             ],
             [
              0.6666666666666666,
              "#ed7953"
             ],
             [
              0.7777777777777778,
              "#fb9f3a"
             ],
             [
              0.8888888888888888,
              "#fdca26"
             ],
             [
              1,
              "#f0f921"
             ]
            ],
            "type": "contour"
           }
          ],
          "contourcarpet": [
           {
            "colorbar": {
             "outlinewidth": 0,
             "ticks": ""
            },
            "type": "contourcarpet"
           }
          ],
          "heatmap": [
           {
            "colorbar": {
             "outlinewidth": 0,
             "ticks": ""
            },
            "colorscale": [
             [
              0,
              "#0d0887"
             ],
             [
              0.1111111111111111,
              "#46039f"
             ],
             [
              0.2222222222222222,
              "#7201a8"
             ],
             [
              0.3333333333333333,
              "#9c179e"
             ],
             [
              0.4444444444444444,
              "#bd3786"
             ],
             [
              0.5555555555555556,
              "#d8576b"
             ],
             [
              0.6666666666666666,
              "#ed7953"
             ],
             [
              0.7777777777777778,
              "#fb9f3a"
             ],
             [
              0.8888888888888888,
              "#fdca26"
             ],
             [
              1,
              "#f0f921"
             ]
            ],
            "type": "heatmap"
           }
          ],
          "heatmapgl": [
           {
            "colorbar": {
             "outlinewidth": 0,
             "ticks": ""
            },
            "colorscale": [
             [
              0,
              "#0d0887"
             ],
             [
              0.1111111111111111,
              "#46039f"
             ],
             [
              0.2222222222222222,
              "#7201a8"
             ],
             [
              0.3333333333333333,
              "#9c179e"
             ],
             [
              0.4444444444444444,
              "#bd3786"
             ],
             [
              0.5555555555555556,
              "#d8576b"
             ],
             [
              0.6666666666666666,
              "#ed7953"
             ],
             [
              0.7777777777777778,
              "#fb9f3a"
             ],
             [
              0.8888888888888888,
              "#fdca26"
             ],
             [
              1,
              "#f0f921"
             ]
            ],
            "type": "heatmapgl"
           }
          ],
          "histogram": [
           {
            "marker": {
             "pattern": {
              "fillmode": "overlay",
              "size": 10,
              "solidity": 0.2
             }
            },
            "type": "histogram"
           }
          ],
          "histogram2d": [
           {
            "colorbar": {
             "outlinewidth": 0,
             "ticks": ""
            },
            "colorscale": [
             [
              0,
              "#0d0887"
             ],
             [
              0.1111111111111111,
              "#46039f"
             ],
             [
              0.2222222222222222,
              "#7201a8"
             ],
             [
              0.3333333333333333,
              "#9c179e"
             ],
             [
              0.4444444444444444,
              "#bd3786"
             ],
             [
              0.5555555555555556,
              "#d8576b"
             ],
             [
              0.6666666666666666,
              "#ed7953"
             ],
             [
              0.7777777777777778,
              "#fb9f3a"
             ],
             [
              0.8888888888888888,
              "#fdca26"
             ],
             [
              1,
              "#f0f921"
             ]
            ],
            "type": "histogram2d"
           }
          ],
          "histogram2dcontour": [
           {
            "colorbar": {
             "outlinewidth": 0,
             "ticks": ""
            },
            "colorscale": [
             [
              0,
              "#0d0887"
             ],
             [
              0.1111111111111111,
              "#46039f"
             ],
             [
              0.2222222222222222,
              "#7201a8"
             ],
             [
              0.3333333333333333,
              "#9c179e"
             ],
             [
              0.4444444444444444,
              "#bd3786"
             ],
             [
              0.5555555555555556,
              "#d8576b"
             ],
             [
              0.6666666666666666,
              "#ed7953"
             ],
             [
              0.7777777777777778,
              "#fb9f3a"
             ],
             [
              0.8888888888888888,
              "#fdca26"
             ],
             [
              1,
              "#f0f921"
             ]
            ],
            "type": "histogram2dcontour"
           }
          ],
          "mesh3d": [
           {
            "colorbar": {
             "outlinewidth": 0,
             "ticks": ""
            },
            "type": "mesh3d"
           }
          ],
          "parcoords": [
           {
            "line": {
             "colorbar": {
              "outlinewidth": 0,
              "ticks": ""
             }
            },
            "type": "parcoords"
           }
          ],
          "pie": [
           {
            "automargin": true,
            "type": "pie"
           }
          ],
          "scatter": [
           {
            "marker": {
             "colorbar": {
              "outlinewidth": 0,
              "ticks": ""
             }
            },
            "type": "scatter"
           }
          ],
          "scatter3d": [
           {
            "line": {
             "colorbar": {
              "outlinewidth": 0,
              "ticks": ""
             }
            },
            "marker": {
             "colorbar": {
              "outlinewidth": 0,
              "ticks": ""
             }
            },
            "type": "scatter3d"
           }
          ],
          "scattercarpet": [
           {
            "marker": {
             "colorbar": {
              "outlinewidth": 0,
              "ticks": ""
             }
            },
            "type": "scattercarpet"
           }
          ],
          "scattergeo": [
           {
            "marker": {
             "colorbar": {
              "outlinewidth": 0,
              "ticks": ""
             }
            },
            "type": "scattergeo"
           }
          ],
          "scattergl": [
           {
            "marker": {
             "colorbar": {
              "outlinewidth": 0,
              "ticks": ""
             }
            },
            "type": "scattergl"
           }
          ],
          "scattermapbox": [
           {
            "marker": {
             "colorbar": {
              "outlinewidth": 0,
              "ticks": ""
             }
            },
            "type": "scattermapbox"
           }
          ],
          "scatterpolar": [
           {
            "marker": {
             "colorbar": {
              "outlinewidth": 0,
              "ticks": ""
             }
            },
            "type": "scatterpolar"
           }
          ],
          "scatterpolargl": [
           {
            "marker": {
             "colorbar": {
              "outlinewidth": 0,
              "ticks": ""
             }
            },
            "type": "scatterpolargl"
           }
          ],
          "scatterternary": [
           {
            "marker": {
             "colorbar": {
              "outlinewidth": 0,
              "ticks": ""
             }
            },
            "type": "scatterternary"
           }
          ],
          "surface": [
           {
            "colorbar": {
             "outlinewidth": 0,
             "ticks": ""
            },
            "colorscale": [
             [
              0,
              "#0d0887"
             ],
             [
              0.1111111111111111,
              "#46039f"
             ],
             [
              0.2222222222222222,
              "#7201a8"
             ],
             [
              0.3333333333333333,
              "#9c179e"
             ],
             [
              0.4444444444444444,
              "#bd3786"
             ],
             [
              0.5555555555555556,
              "#d8576b"
             ],
             [
              0.6666666666666666,
              "#ed7953"
             ],
             [
              0.7777777777777778,
              "#fb9f3a"
             ],
             [
              0.8888888888888888,
              "#fdca26"
             ],
             [
              1,
              "#f0f921"
             ]
            ],
            "type": "surface"
           }
          ],
          "table": [
           {
            "cells": {
             "fill": {
              "color": "#EBF0F8"
             },
             "line": {
              "color": "white"
             }
            },
            "header": {
             "fill": {
              "color": "#C8D4E3"
             },
             "line": {
              "color": "white"
             }
            },
            "type": "table"
           }
          ]
         },
         "layout": {
          "annotationdefaults": {
           "arrowcolor": "#2a3f5f",
           "arrowhead": 0,
           "arrowwidth": 1
          },
          "autotypenumbers": "strict",
          "coloraxis": {
           "colorbar": {
            "outlinewidth": 0,
            "ticks": ""
           }
          },
          "colorscale": {
           "diverging": [
            [
             0,
             "#8e0152"
            ],
            [
             0.1,
             "#c51b7d"
            ],
            [
             0.2,
             "#de77ae"
            ],
            [
             0.3,
             "#f1b6da"
            ],
            [
             0.4,
             "#fde0ef"
            ],
            [
             0.5,
             "#f7f7f7"
            ],
            [
             0.6,
             "#e6f5d0"
            ],
            [
             0.7,
             "#b8e186"
            ],
            [
             0.8,
             "#7fbc41"
            ],
            [
             0.9,
             "#4d9221"
            ],
            [
             1,
             "#276419"
            ]
           ],
           "sequential": [
            [
             0,
             "#0d0887"
            ],
            [
             0.1111111111111111,
             "#46039f"
            ],
            [
             0.2222222222222222,
             "#7201a8"
            ],
            [
             0.3333333333333333,
             "#9c179e"
            ],
            [
             0.4444444444444444,
             "#bd3786"
            ],
            [
             0.5555555555555556,
             "#d8576b"
            ],
            [
             0.6666666666666666,
             "#ed7953"
            ],
            [
             0.7777777777777778,
             "#fb9f3a"
            ],
            [
             0.8888888888888888,
             "#fdca26"
            ],
            [
             1,
             "#f0f921"
            ]
           ],
           "sequentialminus": [
            [
             0,
             "#0d0887"
            ],
            [
             0.1111111111111111,
             "#46039f"
            ],
            [
             0.2222222222222222,
             "#7201a8"
            ],
            [
             0.3333333333333333,
             "#9c179e"
            ],
            [
             0.4444444444444444,
             "#bd3786"
            ],
            [
             0.5555555555555556,
             "#d8576b"
            ],
            [
             0.6666666666666666,
             "#ed7953"
            ],
            [
             0.7777777777777778,
             "#fb9f3a"
            ],
            [
             0.8888888888888888,
             "#fdca26"
            ],
            [
             1,
             "#f0f921"
            ]
           ]
          },
          "colorway": [
           "#636efa",
           "#EF553B",
           "#00cc96",
           "#ab63fa",
           "#FFA15A",
           "#19d3f3",
           "#FF6692",
           "#B6E880",
           "#FF97FF",
           "#FECB52"
          ],
          "font": {
           "color": "#2a3f5f"
          },
          "geo": {
           "bgcolor": "white",
           "lakecolor": "white",
           "landcolor": "#E5ECF6",
           "showlakes": true,
           "showland": true,
           "subunitcolor": "white"
          },
          "hoverlabel": {
           "align": "left"
          },
          "hovermode": "closest",
          "mapbox": {
           "style": "light"
          },
          "paper_bgcolor": "white",
          "plot_bgcolor": "#E5ECF6",
          "polar": {
           "angularaxis": {
            "gridcolor": "white",
            "linecolor": "white",
            "ticks": ""
           },
           "bgcolor": "#E5ECF6",
           "radialaxis": {
            "gridcolor": "white",
            "linecolor": "white",
            "ticks": ""
           }
          },
          "scene": {
           "xaxis": {
            "backgroundcolor": "#E5ECF6",
            "gridcolor": "white",
            "gridwidth": 2,
            "linecolor": "white",
            "showbackground": true,
            "ticks": "",
            "zerolinecolor": "white"
           },
           "yaxis": {
            "backgroundcolor": "#E5ECF6",
            "gridcolor": "white",
            "gridwidth": 2,
            "linecolor": "white",
            "showbackground": true,
            "ticks": "",
            "zerolinecolor": "white"
           },
           "zaxis": {
            "backgroundcolor": "#E5ECF6",
            "gridcolor": "white",
            "gridwidth": 2,
            "linecolor": "white",
            "showbackground": true,
            "ticks": "",
            "zerolinecolor": "white"
           }
          },
          "shapedefaults": {
           "line": {
            "color": "#2a3f5f"
           }
          },
          "ternary": {
           "aaxis": {
            "gridcolor": "white",
            "linecolor": "white",
            "ticks": ""
           },
           "baxis": {
            "gridcolor": "white",
            "linecolor": "white",
            "ticks": ""
           },
           "bgcolor": "#E5ECF6",
           "caxis": {
            "gridcolor": "white",
            "linecolor": "white",
            "ticks": ""
           }
          },
          "title": {
           "x": 0.05
          },
          "xaxis": {
           "automargin": true,
           "gridcolor": "white",
           "linecolor": "white",
           "ticks": "",
           "title": {
            "standoff": 15
           },
           "zerolinecolor": "white",
           "zerolinewidth": 2
          },
          "yaxis": {
           "automargin": true,
           "gridcolor": "white",
           "linecolor": "white",
           "ticks": "",
           "title": {
            "standoff": 15
           },
           "zerolinecolor": "white",
           "zerolinewidth": 2
          }
         }
        },
        "title": {
         "text": "Jumlah Keluhan Kesehatan Tahun 2018"
        },
        "xaxis": {
         "anchor": "y",
         "domain": [
          0,
          1
         ],
         "tickangle": 45,
         "title": {
          "text": "Bulan"
         }
        },
        "yaxis": {
         "anchor": "x",
         "domain": [
          0,
          1
         ],
         "tickformat": ",d",
         "title": {
          "text": "Total"
         }
        }
       }
      }
     },
     "metadata": {},
     "output_type": "display_data"
    }
   ],
   "source": [
    "#explore the data\n",
    "c18 = df_2018.groupby(by=['bulan']).size().reset_index(name='jumlah')\n",
    "fig18 = px.line(c18, x='bulan', y='jumlah', title='Jumlah Keluhan Kesehatan Tahun 2018', markers=True)\n",
    "fig18.update_layout(xaxis_title='Bulan', yaxis_title='Total', plot_bgcolor=\"white\")\n",
    "fig18.update_xaxes(tickangle=45)\n",
    "fig18.update_yaxes(tickformat=',d')\n",
    "fig18.show()"
   ]
  },
  {
   "attachments": {},
   "cell_type": "markdown",
   "metadata": {},
   "source": [
    "## Text Preprocessing"
   ]
  },
  {
   "cell_type": "code",
   "execution_count": 30,
   "metadata": {},
   "outputs": [
    {
     "data": {
      "text/plain": [
       "title        0\n",
       "question     3\n",
       "user_name    4\n",
       "user_type    0\n",
       "date         0\n",
       "link         0\n",
       "tahun        0\n",
       "bulan        0\n",
       "dtype: int64"
      ]
     },
     "execution_count": 30,
     "metadata": {},
     "output_type": "execute_result"
    }
   ],
   "source": [
    "df_2018.isnull().sum()"
   ]
  },
  {
   "cell_type": "code",
   "execution_count": 31,
   "metadata": {},
   "outputs": [],
   "source": [
    "df_2018 = df_2018.dropna().reset_index(drop=True)"
   ]
  },
  {
   "cell_type": "code",
   "execution_count": 78,
   "metadata": {},
   "outputs": [],
   "source": [
    "#training section\n",
    "df_train18 = df_2018[['title', 'question']]"
   ]
  },
  {
   "attachments": {},
   "cell_type": "markdown",
   "metadata": {},
   "source": [
    "### Corpus normalization"
   ]
  },
  {
   "cell_type": "code",
   "execution_count": 33,
   "metadata": {},
   "outputs": [],
   "source": [
    "#cleaning method\n",
    "\n",
    "def remove_punct(text):\n",
    "    if isinstance(text, float):\n",
    "        return text\n",
    "    text = text.lower()\n",
    "\n",
    "    #remove punctuation\n",
    "    text = text.replace(',', ' ')\n",
    "    text = re.sub(r'[{}]'.format(string.punctuation + '\\n'), ' ', text)\n",
    "    text = ''.join('' if a in string.punctuation else a for a in text)\n",
    "    return text\n",
    "\n",
    "def dok_word(text):\n",
    "    text = remove_punct(text)\n",
    "    split_dok = text.split()\n",
    "    for i, word in enumerate(split_dok):\n",
    "        if word.startswith('dok') and len(word) > 3:\n",
    "            split_dok[i] = 'dok' + word.replace('dok', '', 1)\n",
    "    text = \" \".join(split_dok)\n",
    "    return text\n",
    "\n",
    "def normalization(text):\n",
    "    text = dok_word(text)\n",
    "    temp_list = []\n",
    "    temp_normalization = text.split()\n",
    "    for i in temp_normalization:\n",
    "        if i not in std_word_replace:\n",
    "            temp_list.append(i)\n",
    "        elif i in std_word_replace:\n",
    "            temp_list += std_word_replace[i].split()\n",
    "    temp_list = ' '.join(text for text in temp_list if text not in fin_stp)\n",
    "    return temp_list\n",
    "\n",
    "def token_funct(text):\n",
    "    text = normalization(text)\n",
    "    token = tokenize(text)\n",
    "    token_text = list(token)\n",
    "    return token_text"
   ]
  },
  {
   "cell_type": "code",
   "execution_count": 34,
   "metadata": {},
   "outputs": [],
   "source": [
    "df_train18['clean'] = df_train18['question'].apply(lambda x: token_funct(x))"
   ]
  },
  {
   "cell_type": "code",
   "execution_count": 35,
   "metadata": {},
   "outputs": [
    {
     "data": {
      "text/plain": [
       "['anak',\n",
       " 'usia',\n",
       " 'mengalami',\n",
       " 'cacar',\n",
       " 'air',\n",
       " 'doksudah',\n",
       " 'bintik',\n",
       " 'muncul',\n",
       " 'penanganan',\n",
       " 'mempercepat',\n",
       " 'sembuh',\n",
       " 'dbawa',\n",
       " 'rumah',\n",
       " 'sakit',\n",
       " 'penderita',\n",
       " 'cacar',\n",
       " 'air',\n",
       " 'anak',\n",
       " 'air',\n",
       " 'kelapa',\n",
       " 'ijo',\n",
       " 'mandi',\n",
       " 'air',\n",
       " 'dcampur',\n",
       " 'antiseptic',\n",
       " 'bilang',\n",
       " 'cacar',\n",
       " 'air',\n",
       " 'mandi']"
      ]
     },
     "execution_count": 35,
     "metadata": {},
     "output_type": "execute_result"
    }
   ],
   "source": [
    "df_train18['clean'][32234]"
   ]
  },
  {
   "attachments": {},
   "cell_type": "markdown",
   "metadata": {},
   "source": [
    "### n-gram\n"
   ]
  },
  {
   "cell_type": "code",
   "execution_count": 36,
   "metadata": {},
   "outputs": [],
   "source": [
    "def make_bigrams(texts): #fungsi untuk membuat bigram\n",
    "    bigram = gensim.models.Phrases(texts, min_count=9, threshold=8) #hyperparameter untuk penentuan bobot perkata\n",
    "    bigram_mod = gensim.models.phrases.Phraser(bigram) #pembentukan model\n",
    "    return [bigram_mod[doc] for doc in texts] #hasil kata-kata yang tercipta menggunakan model\n",
    "\n",
    "def trigram_func(texts): #fungsi untuk membuat trigram\n",
    "    bigram = gensim.models.Phrases(texts, min_count=9, threshold=5)\n",
    "    trigram = gensim.models.Phrases(bigram[texts], min_count = 15, threshold=2.5)\n",
    "    trigram_mod = gensim.models.phrases.Phraser(trigram)\n",
    "    return [trigram_mod[doc] for doc in texts]"
   ]
  },
  {
   "cell_type": "code",
   "execution_count": 37,
   "metadata": {},
   "outputs": [],
   "source": [
    "bigrams18 = make_bigrams(df_train18['clean'])\n",
    "trigrams18 = trigram_func(df_train18['clean'])"
   ]
  },
  {
   "attachments": {},
   "cell_type": "markdown",
   "metadata": {},
   "source": [
    "#### use it when needed"
   ]
  },
  {
   "cell_type": "code",
   "execution_count": 38,
   "metadata": {},
   "outputs": [],
   "source": [
    "token_toremove = ['terima_kasih','kasih','sebab',\n",
    "                  'terima','tanggal','hari','teman',\n",
    "                  'bulan','kah', 'maaf','trimakasih',\n",
    "                  'assalamualaikum', 'jelas_terima', \n",
    "                  'atas_terima', 'hello', 'ku', 'doc', \n",
    "                  'trimakasi', 'trkadang', 'skrg', \n",
    "                  'jelas','cek', 'kemarin', 'apakh', \n",
    "                  'sok', 'tanya', 'ig', 'cerita', 'biar', \n",
    "                  'pakai', 'laku', 'saran', 'ada', 'nomor', \n",
    "                  'sih', 'suka', 'selsai', 'minggu', 'tunggu', \n",
    "                  'keluar', 'solusi', 'alami', 'apa', 'tolong', 'kena',\n",
    "                  'salah', 'orang', 'beda', 'coba', 'batch', \n",
    "                  'amadeo_basfiansa', 'ianya', \n",
    "                  'dlakukan', 'maksud', 'kesan', 'deh', 'and', \n",
    "                  'tanyak', 'nak', 'nyri', 'ubat', 'rana', 'aqua',\n",
    "                  'assalamu_alaikum', 'hai_brtanya', 'gara', 'uk', 'terima_kasih_kasih', \n",
    "                  'smacam', 'nama', 'now_watching', 'tolong_solusi_terima_kasih','tgl',\n",
    "                  'atas_terima_kasih','ass','tolong_jelas','tolong_jelas','nanyak',\n",
    "                  'wass', 'jawabanya_terima_kasih', 'doctor', 'doktor', 'hai', 'terimakasi', \n",
    "                  'misi', 'kemarin_habis', 'tnykn', 'dokk', 'hai_doktor', 'berak_dokk', 'jam', \n",
    "                  'sore', 'umur' ,'sakit', 'sembuh', 'usia', 'kayak', 'knapa', 'terima_kasih_sukses', \n",
    "                  'sekian_terima_kasih', 'umur_alami', 'assalamu_alaikum_nama', 'ter',\n",
    "                  'ter_bedah','apa','tanggal']\n",
    "for i, doc in enumerate(trigrams18):\n",
    "    trigrams18[i] = [token for token in doc if token != token_toremove]"
   ]
  },
  {
   "cell_type": "code",
   "execution_count": 39,
   "metadata": {},
   "outputs": [],
   "source": [
    "filtered_token = [[token for token in doc if token not in token_toremove] for doc in trigrams18]"
   ]
  },
  {
   "cell_type": "code",
   "execution_count": 40,
   "metadata": {},
   "outputs": [],
   "source": [
    "from collections import Counter\n",
    "\n",
    "bigrams = [bigram for doc in bigrams18 for bigram in doc if '_' in bigram]\n",
    "trigrams = [trigram for doc in trigrams18 for trigram in doc if '_' in trigram]\n",
    "\n",
    "def visualize_frequent_words(tokens_list, num_words):\n",
    "    # Count the frequency of each token\n",
    "    word_freq = Counter(tokens_list)\n",
    "    \n",
    "    # Get the most frequent words\n",
    "    top_words = word_freq.most_common(num_words)\n",
    "    \n",
    "    # Extract the words and their counts\n",
    "    words = [w[0] for w in top_words]\n",
    "    counts = [w[1] for w in top_words]\n",
    "    \n",
    "    # Create a bar chart of the word frequencies\n",
    "    plt.bar(words, counts)\n",
    "    plt.xticks(rotation=90)\n",
    "    plt.xlabel('Word')\n",
    "    plt.ylabel('Frequency')\n",
    "    plt.title('Top {} Most Frequent Words'.format(num_words))\n",
    "    plt.show()"
   ]
  },
  {
   "cell_type": "code",
   "execution_count": 41,
   "metadata": {},
   "outputs": [
    {
     "data": {
      "image/png": "[encoded data removed]",
      "text/plain": [
       "<Figure size 432x288 with 1 Axes>"
      ]
     },
     "metadata": {},
     "output_type": "display_data"
    }
   ],
   "source": [
    "visualize_frequent_words(bigrams, 20)"
   ]
  },
  {
   "attachments": {},
   "cell_type": "markdown",
   "metadata": {},
   "source": [
    "### Most Frequent word"
   ]
  },
  {
   "cell_type": "code",
   "execution_count": 42,
   "metadata": {},
   "outputs": [
    {
     "data": {
      "text/plain": [
       "[('anak', 6884),\n",
       " ('obat', 6390),\n",
       " ('normal', 4729),\n",
       " ('penyakit', 3911),\n",
       " ('hamil', 3816),\n",
       " ('nyeri', 3726),\n",
       " ('mengalami', 3580),\n",
       " ('haid', 3493),\n",
       " ('gatal', 3385),\n",
       " ('darah', 3254)]"
      ]
     },
     "execution_count": 42,
     "metadata": {},
     "output_type": "execute_result"
    }
   ],
   "source": [
    "# check removed token\n",
    "word_freq19 = Counter([item for sublist in filtered_token for item in sublist])\n",
    "word_freq19.most_common(10)"
   ]
  },
  {
   "cell_type": "code",
   "execution_count": 43,
   "metadata": {},
   "outputs": [
    {
     "name": "stdout",
     "output_type": "stream",
     "text": [
      "1216892 words total, with a vocabulary size of 55917\n",
      "Max sentence length is 570\n"
     ]
    }
   ],
   "source": [
    "#check most frequent words\n",
    "all_words = [word for tokens in df_train18['clean'] for word in tokens]\n",
    "sentence_lengths = [len(tokens) for tokens in df_train18['clean']]\n",
    "VOCAB = sorted(list(set(all_words)))\n",
    "print(\"%s words total, with a vocabulary size of %s\" % (len(all_words), len(VOCAB)))\n",
    "print(\"Max sentence length is %s\" % max(sentence_lengths))"
   ]
  },
  {
   "cell_type": "code",
   "execution_count": 44,
   "metadata": {},
   "outputs": [
    {
     "data": {
      "text/plain": [
       "[('sakit', 24281),\n",
       " ('obat', 15498),\n",
       " ('anak', 11370),\n",
       " ('minum', 8501),\n",
       " ('darah', 8278),\n",
       " ('mengalami', 7909),\n",
       " ('haid', 7261),\n",
       " ('perut', 7132),\n",
       " ('nyeri', 6810),\n",
       " ('penyakit', 6796)]"
      ]
     },
     "execution_count": 44,
     "metadata": {},
     "output_type": "execute_result"
    }
   ],
   "source": [
    "word_freq = Counter(all_words)\n",
    "word_freq.most_common(10)"
   ]
  },
  {
   "attachments": {},
   "cell_type": "markdown",
   "metadata": {},
   "source": [
    "## Dictionary from the corpus"
   ]
  },
  {
   "attachments": {},
   "cell_type": "markdown",
   "metadata": {},
   "source": [
    "## Create corpus to input to the models"
   ]
  },
  {
   "cell_type": "code",
   "execution_count": 45,
   "metadata": {},
   "outputs": [],
   "source": [
    "#create dict\n",
    "dictionary18 = corpora.Dictionary(filtered_token)\n",
    "#create corpus\n",
    "texts = filtered_token\n",
    "corpus18 = [dictionary18.doc2bow(text) for text in texts]"
   ]
  },
  {
   "attachments": {},
   "cell_type": "markdown",
   "metadata": {},
   "source": [
    "## Train the models"
   ]
  },
  {
   "attachments": {},
   "cell_type": "markdown",
   "metadata": {},
   "source": [
    "here a possible sequence that we use to create a models which include checking how good the modesl is by addapting coherence value inside of the function"
   ]
  },
  {
   "cell_type": "code",
   "execution_count": 46,
   "metadata": {},
   "outputs": [
    {
     "name": "stdout",
     "output_type": "stream",
     "text": [
      "Number of CPU cores: 8\n"
     ]
    }
   ],
   "source": [
    "import multiprocessing\n",
    "\n",
    "print(f\"Number of CPU cores: {multiprocessing.cpu_count()}\")"
   ]
  },
  {
   "cell_type": "code",
   "execution_count": null,
   "metadata": {},
   "outputs": [],
   "source": [
    "def compute_coherence_values(dictionary, corpus, texts, limit, start, step):\n",
    "    coherence_values = []\n",
    "    model_list1 = []\n",
    "\n",
    "    for num_topics in range(start, limit, step):\n",
    "        model = LdaModel(corpus=corpus,\n",
    "                        id2word=dictionary,\n",
    "                        num_topics=num_topics, \n",
    "                        random_state=42,\n",
    "                        chunksize=5,\n",
    "                        passes=20,\n",
    "                        update_every=5,\n",
    "                        alpha=0.3,\n",
    "                        eta=0.8,\n",
    "                        decay=0.8,\n",
    "                        iterations=150,\n",
    "                        minimum_probability=0.65,\n",
    "                        per_word_topics=True) \n",
    "        model_list1.append(model) \n",
    "        #check the coherence value\n",
    "        coherencemodel = CoherenceModel(model=model, \n",
    "                                        texts=texts,\n",
    "                                        dictionary=dictionary, \n",
    "                                        coherence='c_v')\n",
    "        coherence_values.append(coherencemodel.get_coherence())\n",
    "\n",
    "        #check the preplexity\n",
    "        perplexity = model.log_perplexity(corpus)\n",
    "\n",
    "    return model_list1, coherence_values, perplexity"
   ]
  },
  {
   "attachments": {},
   "cell_type": "markdown",
   "metadata": {},
   "source": [
    "It is important that changing the hyperparameters can have trade-offs. Increasing alpha can lead to more diverse topics, but it can also increase the noise in the topics. Decreasing eta can lead to more diverse words within topics, but it can also lead to more similar topics. Therefore, it is recommended to try different values of hyperparameters and evaluate the resulting topics based on coherence and interpretability."
   ]
  },
  {
   "cell_type": "code",
   "execution_count": null,
   "metadata": {},
   "outputs": [],
   "source": [
    "model_list, coherence_values, preplexity = compute_coherence_values(dictionary=dictionary18, corpus=corpus18, texts=filtered_token, start=2, limit=15, step=2) "
   ]
  },
  {
   "cell_type": "code",
   "execution_count": null,
   "metadata": {},
   "outputs": [],
   "source": [
    "# show graph\n",
    "limit=15; start=2; step=2\n",
    "x = range(start, limit, step)\n",
    "plt.plot(x, coherence_values)\n",
    "plt.xlabel(\"Num Topics\")\n",
    "plt.ylabel(\"Coherence score\")\n",
    "plt.legend((\"coherence_values\"), loc='best')\n",
    "plt.show()"
   ]
  },
  {
   "cell_type": "code",
   "execution_count": null,
   "metadata": {},
   "outputs": [],
   "source": [
    "best_model = model_list[np.argmax(coherence_values)]\n",
    "best_model.print_topics()"
   ]
  },
  {
   "cell_type": "code",
   "execution_count": null,
   "metadata": {},
   "outputs": [],
   "source": [
    "vis = gensimvis.prepare(best_model, corpus18, dictionary18)\n",
    "pyLDAvis.display(vis)"
   ]
  },
  {
   "cell_type": "code",
   "execution_count": null,
   "metadata": {},
   "outputs": [],
   "source": [
    "#show perplexity\n",
    "print(f\"Perplexity: {best_model.log_perplexity(corpus18)}\")"
   ]
  },
  {
   "cell_type": "code",
   "execution_count": null,
   "metadata": {},
   "outputs": [],
   "source": [
    "import math\n",
    "nbound = np.exp2(best_model.log_perplexity(corpus18))\n",
    "print(f\"Perplexity: {nbound}\")"
   ]
  },
  {
   "cell_type": "code",
   "execution_count": 48,
   "metadata": {},
   "outputs": [],
   "source": [
    "from flair.models import SequenceTagger"
   ]
  },
  {
   "cell_type": "code",
   "execution_count": 49,
   "metadata": {},
   "outputs": [],
   "source": [
    "import torch\n",
    "\n",
    "folder_path = \"C:/Users/WINDOWS 10/Documents/Skripsi/scrapingFIX/indonesia-bioner\"\n",
    "model_state = torch.load(f\"{folder_path}/pytorch_model.bin\", map_location=torch.device('cpu'))"
   ]
  },
  {
   "cell_type": "code",
   "execution_count": 89,
   "metadata": {},
   "outputs": [
    {
     "name": "stdout",
     "output_type": "stream",
     "text": [
      "2023-05-10 18:25:23,363 SequenceTagger predicts: Dictionary with 9 tags: O, S-DISO, B-DISO, E-DISO, I-DISO, S-ANAT, B-ANAT, E-ANAT, I-ANAT\n"
     ]
    }
   ],
   "source": [
    "from flair.models import SequenceTagger\n",
    "\n",
    "\n",
    "tagger = SequenceTagger.load(\"abid/indonesia-bioner\")"
   ]
  },
  {
   "cell_type": "code",
   "execution_count": 51,
   "metadata": {},
   "outputs": [],
   "source": [
    "from flair.data import Sentence\n",
    "\n",
    "sentence = Sentence('Presiden Jokowi akan mengunjungi Yogyakarta minggu depan')"
   ]
  },
  {
   "cell_type": "code",
   "execution_count": 52,
   "metadata": {},
   "outputs": [],
   "source": [
    "tagger.predict(sentence)"
   ]
  },
  {
   "cell_type": "code",
   "execution_count": 53,
   "metadata": {},
   "outputs": [
    {
     "name": "stdout",
     "output_type": "stream",
     "text": [
      "Sentence[7]: \"Presiden Jokowi akan mengunjungi Yogyakarta minggu depan\"\n"
     ]
    }
   ],
   "source": [
    "print(sentence.to_tagged_string())"
   ]
  },
  {
   "cell_type": "code",
   "execution_count": 54,
   "metadata": {},
   "outputs": [],
   "source": [
    "# iterate over the predicted named entities\n",
    "for entity in sentence.get_spans('ner'):\n",
    "    # get the entity type (label)\n",
    "    label = entity.get_labels()[0].value\n",
    "    print(f'{entity.text}: {label}')"
   ]
  },
  {
   "cell_type": "code",
   "execution_count": 55,
   "metadata": {},
   "outputs": [],
   "source": [
    "def tag_ner(text):\n",
    "    sentence = Sentence(text)\n",
    "    tagger.predict(sentence)\n",
    "    return sentence.to_tagged_string()"
   ]
  },
  {
   "cell_type": "code",
   "execution_count": 56,
   "metadata": {},
   "outputs": [
    {
     "name": "stdout",
     "output_type": "stream",
     "text": [
      "2023-05-09 07:09:05,248 Warning: An empty Sentence was created! Are there empty strings in your dataset?\n",
      "2023-05-09 07:13:57,057 Warning: An empty Sentence was created! Are there empty strings in your dataset?\n",
      "2023-05-09 07:23:19,180 Warning: An empty Sentence was created! Are there empty strings in your dataset?\n",
      "2023-05-09 07:25:49,384 Warning: An empty Sentence was created! Are there empty strings in your dataset?\n",
      "2023-05-09 07:29:20,176 Warning: An empty Sentence was created! Are there empty strings in your dataset?\n",
      "2023-05-09 07:52:47,756 Warning: An empty Sentence was created! Are there empty strings in your dataset?\n",
      "2023-05-09 07:57:25,619 Warning: An empty Sentence was created! Are there empty strings in your dataset?\n",
      "2023-05-09 07:59:07,700 Warning: An empty Sentence was created! Are there empty strings in your dataset?\n",
      "2023-05-09 08:21:48,832 Warning: An empty Sentence was created! Are there empty strings in your dataset?\n",
      "2023-05-09 08:25:27,781 Warning: An empty Sentence was created! Are there empty strings in your dataset?\n"
     ]
    }
   ],
   "source": [
    "df_train18['ner'] = df_train18['clean'].apply(lambda x: tag_ner(x))"
   ]
  },
  {
   "cell_type": "code",
   "execution_count": 79,
   "metadata": {},
   "outputs": [],
   "source": [
    "df_train18['no_token'] = df_train18['question'].apply(lambda x: normalization(x))"
   ]
  },
  {
   "cell_type": "code",
   "execution_count": 69,
   "metadata": {},
   "outputs": [],
   "source": [
    "df_train18['ner_no_token'] = df_train18['no_token'].apply(lambda x: tag_ner(x))"
   ]
  },
  {
   "cell_type": "code",
   "execution_count": 71,
   "metadata": {},
   "outputs": [
    {
     "data": {
      "text/plain": [
       "'Sentence[34]: \"sentence 25 teman menderita epilepsi kelas sembuh total umurnya pengobatan sembuh total medis non medis trapi ruqyah bekam obat an dironsen kepalanya obat mujarab sembuhi total jwbnnya → epilepsi diso ruqyah diso bekam diso\" → [\"epilepsi\"/DISO, \"ruqyah\"/DISO, \"bekam\"/DISO, \"epilepsi\"/DISO, \"diso\"/DISO, \"ruqyah\"/DISO, \"diso\"/DISO, \"bekam\"/DISO, \"diso\"/DISO]'"
      ]
     },
     "execution_count": 71,
     "metadata": {},
     "output_type": "execute_result"
    }
   ],
   "source": [
    "df_train18['ner_no_token'][213]"
   ]
  },
  {
   "cell_type": "code",
   "execution_count": 85,
   "metadata": {},
   "outputs": [
    {
     "data": {
      "text/plain": [
       "'siang dok,saya ingin bertanya,ada tmn saya menderita epilepsi sejak kelas 3 SMP sampai skrg tdk sembuh total,umurnya kira2 32 taun,sdh berbagai pengobatan tdk sembuh total,mau medis,non medis,trapi,ruqyah,bekam,obat2an.dironsen tdk mslh pd kepalanya.apa obat yg mujarab sembuhi total ya dok?? trims ya dok jwbnnya\\n '"
      ]
     },
     "execution_count": 85,
     "metadata": {},
     "output_type": "execute_result"
    }
   ],
   "source": [
    "df_train18['question'][213]"
   ]
  },
  {
   "cell_type": "code",
   "execution_count": 84,
   "metadata": {},
   "outputs": [
    {
     "data": {
      "text/plain": [
       "'teman menderita epilepsi kelas 3 sembuh total umurnya 32 pengobatan sembuh total medis non medis trapi ruqyah bekam obat2an dironsen kepalanya obat mujarab sembuhi total jwbnnya'"
      ]
     },
     "execution_count": 84,
     "metadata": {},
     "output_type": "execute_result"
    }
   ],
   "source": [
    "df_train18['no_token'][213]"
   ]
  },
  {
   "cell_type": "code",
   "execution_count": 83,
   "metadata": {},
   "outputs": [
    {
     "data": {
      "text/plain": [
       "'Dokter hari ini perut saya rasanya aneh sepertinya kembung, lalu saya tadi juga sudah bab tapi kok rasanya menjanggal diperut saya, akhirnya saya minum antangin sebelum minum antangin saya sudah makan pepaya, apa boleh dok seperti itu dan apa efeknya jika minum antangin sebelum makan nasi, terima kasih mohon jawaban dan bantuannya, dok'"
      ]
     },
     "execution_count": 83,
     "metadata": {},
     "output_type": "execute_result"
    }
   ],
   "source": [
    "df_train18['question'][5512]"
   ]
  },
  {
   "cell_type": "code",
   "execution_count": 91,
   "metadata": {},
   "outputs": [
    {
     "name": "stdout",
     "output_type": "stream",
     "text": [
      "[('epilepsi', 'DISO')]\n"
     ]
    }
   ],
   "source": [
    "# define the text to be analyzed\n",
    "text = 'siang dok,saya ingin bertanya,ada tmn saya menderita epilepsi sejak kelas 3 SMP sampai skrg tdk sembuh total,umurnya kira2 32 taun,sdh berbagai pengobatan tdk sembuh total,mau medis,non medis,trapi,ruqyah,bekam,obat2an.dironsen tdk mslh pd kepalanya.apa obat yg mujarab sembuhi total ya dok?? trims ya dok jwbnnya\\n '\n",
    "\n",
    "# create a Flair sentence object\n",
    "sentence = Sentence(text)\n",
    "\n",
    "# predict the entities in the sentence\n",
    "tagger.predict(sentence)\n",
    "\n",
    "# create a list of tuples (entity_text, entity_type) for each entity\n",
    "entities = [(entity.text, entity.labels[0].value) for entity in sentence.get_spans('ner')]\n",
    "\n",
    "# filter the list to only include entities with type 'DISO'\n",
    "diso_entities = [entity for entity in entities if entity[1] == 'DISO']\n",
    "\n",
    "# print the list of DISO entities\n",
    "print(diso_entities)"
   ]
  }
 ],
 "metadata": {
  "kernelspec": {
   "display_name": "Python 3.9.12 ('base')",
   "language": "python",
   "name": "python3"
  },
  "language_info": {
   "codemirror_mode": {
    "name": "ipython",
    "version": 3
   },
   "file_extension": ".py",
   "mimetype": "text/x-python",
   "name": "python",
   "nbconvert_exporter": "python",
   "pygments_lexer": "ipython3",
   "version": "3.9.12"
  },
  "orig_nbformat": 4,
  "vscode": {
   "interpreter": {
    "hash": "ad2bdc8ecc057115af97d19610ffacc2b4e99fae6737bb82f5d7fb13d2f2c186"
   }
  }
 },
 "nbformat": 4,
 "nbformat_minor": 2
}
